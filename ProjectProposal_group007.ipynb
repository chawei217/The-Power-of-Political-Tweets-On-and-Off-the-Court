{
 "cells": [
  {
   "cell_type": "markdown",
   "metadata": {},
   "source": [
    "# COGS 108 - Final Project Proposal"
   ]
  },
  {
   "cell_type": "markdown",
   "metadata": {},
   "source": [
    "# Names\n",
    "\n",
    "- Quinton Ramaswamy\n",
    "- Chao-Li Wei\n",
    "- Alexander G. Arias\n",
    "- Lauren Gomez\n",
    "- David Marquez"
   ]
  },
  {
   "cell_type": "markdown",
   "metadata": {},
   "source": [
    "# Research Question"
   ]
  },
  {
   "cell_type": "markdown",
   "metadata": {},
   "source": [
    "**Research Question** <br>\n",
    "`Version 1` <br>\n",
    "How does the number, favorite count, and retweet count of NBA players' political tweets affect their salary, on-court performance, and impact to the team during 2020-2021? <br>\n",
    "`Version 2` <br>\n",
    "How does the quantity and impact of NBA players' political tweets affect their salary, on-court performance, and impact to the team during 2020-2021 ?"
   ]
  },
  {
   "cell_type": "markdown",
   "metadata": {},
   "source": [
    "## Background and Prior Work"
   ]
  },
  {
   "cell_type": "markdown",
   "metadata": {},
   "source": [
    "**Background** <br>\n",
    "NBA has been most active in expressing its political messages as a league among all other sports such as NFL, NHL, or UFC. This heightened political activism perceives both positive and negative feedbacks from the general public. The former President Donald Trump told reporters on Air Force One on 8/28/2020 that \"what they’re doing to the NBA in particular is gonna destroy basketball\" (1). In contrast, some argue that NBA is making \"a commitment to justice unique among the major men’s sports leagues\" (2). To understand the relationship between an NBA player's success and his political involvement, we will analyze the the relationship between individual NBA player's salary, on-count performance, and impact to the team, with the quantity and impact of the player's political posts on Twitter, one of the most vocal platforms for NBA players to express their opinions about politics and social justice.\n",
    "\n",
    "**Prior work** <br>\n",
    "A research conducted by Marist poll, a rigorous, scientific-based, telephone survey (4), discovered that politics appear to be playing a role in the enormous drop in viewership for some professional sports, with \"46 percent of self-described sports fans say they are spending less time watching live sports broadcasts than in the past\" (5). \n",
    "\n",
    "The survey was conducted in September 2020 by The Marist Poll in partnership with the Marist College Center for Sports Communication to identify a relationship between personal and public concerns such as COVID-19 and Social Justice and an individuals willingness to continue watching live sports. (3)\n",
    "\n",
    "The most relevant result of the study was about sports fans who were asked to describe the viewing impact of athletes’ calls for racial justice. In this particular case, 70% of identifying Republicans said they were less likely to watch live sports for this reason. Meanwhile, 61% of Democrats and a plurality of Independents (47%) say athletes speaking out has not changed their viewing habits, while about 3 in 10 (31% and 24%, respectively) say this is the reason for them tuning in more often.\n",
    "\n",
    "As a result, it appears that political climate has a potential impact on sport-related ratings and success. However, it is also important to note that other findings were established by the Marist Poll in this particular study. \n",
    "\n",
    "\n",
    "References (include links):\n",
    "- 1) [Political protests by NBA players will 'destroy basketball', says Trump](https://www.theguardian.com/sport/2020/aug/29/political-protests-by-nba-players-will-destroy-basketball-says-trump)\n",
    "- 2) [Colliding Contradictions Crack the NBA’s Political Facade](https://www.theringer.com/nba/2020/8/27/21404988/nba-strike-colliding-contradictions)\n",
    "- 3) [Sports Fans Watching Fewer Live Sports Broadcasts Survey](http://maristpoll.marist.edu/wp-content/uploads/2020/10/Marist-Poll_Sports-Communication_USA-Complete-Survey-Findings_202010091420-1.pdf#page=4)\n",
    "- 4) [Marist Poll Methodology](http://maristpoll.marist.edu/methods/#sthash.Qc1TTLTh.dpbs)\n",
    "- 5) [Study reveals reasons for enormous drop in sports viewership, including political dynamic](https://www.miamiherald.com/sports/spt-columns-blogs/barry-jackson/article246514675.html)\n",
    "- 6) [NBA Statistics](https://data.world/datasets/nba)"
   ]
  },
  {
   "cell_type": "markdown",
   "metadata": {},
   "source": [
    "# Hypothesis\n"
   ]
  },
  {
   "cell_type": "markdown",
   "metadata": {},
   "source": [
    "We believe that the NBA players who have more influence on their political tweets (i.e. average number of favorite/retweet account per political Twitter post), he is more likely to be famed among the public and thus a better player court-wise and salary-wise. Therefore, we hypothesize that increase of an NBA player's influence of political tweet and the favorite and retweet count of the tweet is likely to be directly proportional to the player's on-court performance and their salary in NBA. "
   ]
  },
  {
   "cell_type": "markdown",
   "metadata": {},
   "source": [
    "# Data"
   ]
  },
  {
   "cell_type": "markdown",
   "metadata": {},
   "source": [
    "*Explain what the ideal dataset you would want to answer this question. (This should include: What variables? How many observations? Who/what/how would these data be collected? How would these data be stored/organized?)*"
   ]
  },
  {
   "cell_type": "markdown",
   "metadata": {},
   "source": [
    "Our ideal data set contains player social media data, and performance & salary.\n",
    "\n",
    "We will perform natural language processing in order to see how often players make political post on Twitter and the impact of their tweets. We will assign certain dictionary of words with score from 0 to 1, 1 having strong political connotation. We will stem, remove punctuation and transition words of each tweet, and add up the weights of each word to get an overall political score of the tweet. This data will be stored as dataframe with rows being the names of current NBA players, columns being the number of political post the player made, proportion of political posts v.s. all posts, average number of retweets and favorite count per post, and the number of followers of the player. \n",
    "\n",
    "\n",
    "For performance and salary stats, the data will be stored in columns by season (from 2017-2021), players' game statistics, and players' salaries.\n"
   ]
  },
  {
   "cell_type": "markdown",
   "metadata": {},
   "source": [
    "# Ethics & Privacy"
   ]
  },
  {
   "cell_type": "markdown",
   "metadata": {},
   "source": [
    "When analyzing data from public social media sites, it is important to verify that we are getting data on the correct people. We will ensure any data taken from twitter is only on public, verified NBA player twitter accounts. We will ensure no data is taken from any twitter account not belonging to an NBA player.\n",
    "\n",
    "It is important to note that any political opinions expressed by NBA players are not our own. We respect all people's have their own political opinions and recognize that the information in one tweet can not sum up all the motivations behind political beliefs.\n",
    "\n",
    "To ensure an unbiased analyzation of data for political activism,  there will be data from twitter posts containing both negative and positive sentiment toward the political climate."
   ]
  },
  {
   "cell_type": "markdown",
   "metadata": {},
   "source": [
    "# Team Expectations "
   ]
  },
  {
   "cell_type": "markdown",
   "metadata": {},
   "source": [
    "* *Ask others for help if one is lost or stuck on the direction or technical side of the project*\n",
    "* *Good communication. Notify the members ahead of time if one cannot make the meeting, and communicate to the members if one cannot make the deadline for the project.*\n",
    "* *Be conspicuous about your feeling for the project directions.*"
   ]
  },
  {
   "cell_type": "markdown",
   "metadata": {},
   "source": [
    "# Project Timeline Proposal"
   ]
  },
  {
   "cell_type": "markdown",
   "metadata": {},
   "source": [
    "| Meeting Date  | Meeting Time| Completed Before Meeting  | Discuss at Meeting |\n",
    "|---|---|---|---|\n",
    "| 4/29  |  5:30 PM | Read & Think about COGS 108 expectations; brainstorm topics/questions  | Determine best form of communication; Discuss and decide on final project topic; discuss hypothesis; begin background research | \n",
    "| 5/6  |  5:30 PM |  Do background research on topic | Discuss ideal dataset(s) and ethics; draft project proposal | \n",
    "| 5/13  | 5:30 PM  | Edit, finalize, and submit proposal; Search for datasets  | Discuss Wrangling and possible analytical approaches; Assign group members to lead each specific part   |\n",
    "| 5/20  | 5:30 PM  | Import & Wrangle Data (Lauren); EDA (Alexander) | Review/Edit wrangling/EDA; Discuss Analysis Plan   |\n",
    "| 5/27  | 5:30 PM  | Finalize wrangling/EDA; Begin Analysis (Michael; Quinton) | Discuss/edit Analysis; Complete project check-in |\n",
    "| 6/3 | 5:30 PM  | Complete analysis; Draft results/conclusion/discussion (David)| Discuss/edit full project |\n",
    "| 6/10 | Before 11:59 PM  | NA | Turn in Final Project & Group Project Surveys |"
   ]
  }
 ],
 "metadata": {
  "kernelspec": {
   "display_name": "Python 3",
   "language": "python",
   "name": "python3"
  },
  "language_info": {
   "codemirror_mode": {
    "name": "ipython",
    "version": 3
   },
   "file_extension": ".py",
   "mimetype": "text/x-python",
   "name": "python",
   "nbconvert_exporter": "python",
   "pygments_lexer": "ipython3",
   "version": "3.8.6"
  }
 },
 "nbformat": 4,
 "nbformat_minor": 2
}
