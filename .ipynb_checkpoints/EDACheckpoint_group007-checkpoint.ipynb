{
 "cells": [
  {
   "cell_type": "markdown",
   "metadata": {},
   "source": [
    "# COGS 108 - EDA Checkpoint"
   ]
  },
  {
   "cell_type": "markdown",
   "metadata": {},
   "source": [
    "# Names\n",
    "\n",
    "- Chao-Li Wei\n",
    "- Quinton Ramasamy\n",
    "- Lauren Gomez\n",
    "- Alexander G. Arias\n",
    "- David Marquez"
   ]
  },
  {
   "cell_type": "markdown",
   "metadata": {},
   "source": [
    "<a id='research_question'></a>\n",
    "# Research Question"
   ]
  },
  {
   "cell_type": "markdown",
   "metadata": {},
   "source": [
    "How does the number, favorite count, and retweet count of NBA players' political tweets affect their salary, on-court performance, and impact to the team during 2020-2021? <br>"
   ]
  },
  {
   "cell_type": "markdown",
   "metadata": {},
   "source": [
    "# Setup"
   ]
  },
  {
   "cell_type": "code",
   "execution_count": 1,
   "metadata": {},
   "outputs": [],
   "source": [
    "import pandas as pd\n",
    "import numpy as np\n",
    "import seaborn as sns\n",
    "import matplotlib.pyplot as plt\n",
    "import datetime\n",
    "from sklearn.metrics import confusion_matrix, f1_score"
   ]
  },
  {
   "cell_type": "code",
   "execution_count": 2,
   "metadata": {},
   "outputs": [],
   "source": [
    "import nltk\n",
    "from nltk.tokenize import word_tokenize\n",
    "from nltk.corpus import stopwords\n",
    "from nltk.stem import PorterStemmer\n",
    "from nltk.stem import SnowballStemmer\n",
    "from nltk.sentiment.vader import SentimentIntensityAnalyzer "
   ]
  },
  {
   "cell_type": "code",
   "execution_count": 3,
   "metadata": {},
   "outputs": [],
   "source": [
    "df_2017 = pd.read_csv('data/year_2017.csv')\n",
    "df_2018 = pd.read_csv('data/year_2018.csv')\n",
    "df_2019 = pd.read_csv('data/year_2019.csv')\n",
    "df_2020 = pd.read_csv('data/year_2020.csv')"
   ]
  },
  {
   "cell_type": "code",
   "execution_count": 4,
   "metadata": {},
   "outputs": [
    {
     "data": {
      "text/plain": [
       "Index(['Unnamed: 0', 'SEASON', 'AGE', 'TEAM', 'LEAGUE', 'POS', 'G', 'GS', 'MP',\n",
       "       'FG', 'FGA', 'FG%', '3P', '3PA', '3P%', '2P', '2PA', '2P%', 'eFG%',\n",
       "       'FT', 'FTA', 'FT%', 'ORB', 'DRB', 'TRB', 'AST', 'STL', 'BLK', 'TOV',\n",
       "       'PF', 'PTS', 'SALARY', 'NAME'],\n",
       "      dtype='object')"
      ]
     },
     "execution_count": 4,
     "metadata": {},
     "output_type": "execute_result"
    }
   ],
   "source": [
    "df_2018.columns"
   ]
  },
  {
   "cell_type": "code",
   "execution_count": 5,
   "metadata": {},
   "outputs": [],
   "source": [
    "df_2017 = df_2017.drop(['Unnamed: 0'], axis=1)\n",
    "df_2018 = df_2018.drop(['Unnamed: 0'], axis=1)\n",
    "df_2019 = df_2019.drop(['Unnamed: 0'], axis=1)\n",
    "df_2020 = df_2020.drop(['Unnamed: 0'], axis=1)"
   ]
  },
  {
   "cell_type": "code",
   "execution_count": 6,
   "metadata": {},
   "outputs": [
    {
     "name": "stderr",
     "output_type": "stream",
     "text": [
      "<ipython-input-6-4d6283db6c45>:1: FutureWarning: Sorting because non-concatenation axis is not aligned. A future version\n",
      "of pandas will change to not sort by default.\n",
      "\n",
      "To accept the future behavior, pass 'sort=False'.\n",
      "\n",
      "To retain the current behavior and silence the warning, pass 'sort=True'.\n",
      "\n",
      "  main_df = pd.concat([df_2017, df_2018, df_2019, df_2020], axis=0)\n"
     ]
    }
   ],
   "source": [
    "main_df = pd.concat([df_2017, df_2018, df_2019, df_2020], axis=0)"
   ]
  },
  {
   "cell_type": "code",
   "execution_count": 7,
   "metadata": {},
   "outputs": [
    {
     "data": {
      "text/html": [
       "<div>\n",
       "<style scoped>\n",
       "    .dataframe tbody tr th:only-of-type {\n",
       "        vertical-align: middle;\n",
       "    }\n",
       "\n",
       "    .dataframe tbody tr th {\n",
       "        vertical-align: top;\n",
       "    }\n",
       "\n",
       "    .dataframe thead th {\n",
       "        text-align: right;\n",
       "    }\n",
       "</style>\n",
       "<table border=\"1\" class=\"dataframe\">\n",
       "  <thead>\n",
       "    <tr style=\"text-align: right;\">\n",
       "      <th></th>\n",
       "      <th>SEASON</th>\n",
       "      <th>AGE</th>\n",
       "      <th>TEAM</th>\n",
       "      <th>LEAGUE</th>\n",
       "      <th>POS</th>\n",
       "      <th>G</th>\n",
       "      <th>GS</th>\n",
       "      <th>MP</th>\n",
       "      <th>FG</th>\n",
       "      <th>FGA</th>\n",
       "      <th>...</th>\n",
       "      <th>DRB</th>\n",
       "      <th>TRB</th>\n",
       "      <th>AST</th>\n",
       "      <th>STL</th>\n",
       "      <th>BLK</th>\n",
       "      <th>TOV</th>\n",
       "      <th>PF</th>\n",
       "      <th>PTS</th>\n",
       "      <th>SALARY</th>\n",
       "      <th>NAME</th>\n",
       "    </tr>\n",
       "  </thead>\n",
       "  <tbody>\n",
       "    <tr>\n",
       "      <th>7</th>\n",
       "      <td>2017-18</td>\n",
       "      <td>28.0</td>\n",
       "      <td>TOT</td>\n",
       "      <td>NBA</td>\n",
       "      <td>SF</td>\n",
       "      <td>50.0</td>\n",
       "      <td>14.0</td>\n",
       "      <td>14.3</td>\n",
       "      <td>1.8</td>\n",
       "      <td>4.3</td>\n",
       "      <td>...</td>\n",
       "      <td>1.8</td>\n",
       "      <td>1.9</td>\n",
       "      <td>0.6</td>\n",
       "      <td>0.2</td>\n",
       "      <td>0.1</td>\n",
       "      <td>0.4</td>\n",
       "      <td>1.1</td>\n",
       "      <td>5.2</td>\n",
       "      <td>$1,974,159</td>\n",
       "      <td>Luke Babbitt</td>\n",
       "    </tr>\n",
       "    <tr>\n",
       "      <th>8</th>\n",
       "      <td>2017-18</td>\n",
       "      <td>28.0</td>\n",
       "      <td>ATL</td>\n",
       "      <td>NBA</td>\n",
       "      <td>SF</td>\n",
       "      <td>37.0</td>\n",
       "      <td>9.0</td>\n",
       "      <td>15.4</td>\n",
       "      <td>2.2</td>\n",
       "      <td>4.5</td>\n",
       "      <td>...</td>\n",
       "      <td>2.1</td>\n",
       "      <td>2.2</td>\n",
       "      <td>0.7</td>\n",
       "      <td>0.2</td>\n",
       "      <td>0.1</td>\n",
       "      <td>0.4</td>\n",
       "      <td>1.3</td>\n",
       "      <td>6.1</td>\n",
       "      <td>$1,974,159</td>\n",
       "      <td>Luke Babbitt</td>\n",
       "    </tr>\n",
       "    <tr>\n",
       "      <th>9</th>\n",
       "      <td>2017-18</td>\n",
       "      <td>28.0</td>\n",
       "      <td>MIA</td>\n",
       "      <td>NBA</td>\n",
       "      <td>SF</td>\n",
       "      <td>13.0</td>\n",
       "      <td>5.0</td>\n",
       "      <td>11.2</td>\n",
       "      <td>0.8</td>\n",
       "      <td>3.6</td>\n",
       "      <td>...</td>\n",
       "      <td>1.0</td>\n",
       "      <td>1.2</td>\n",
       "      <td>0.4</td>\n",
       "      <td>0.1</td>\n",
       "      <td>0.2</td>\n",
       "      <td>0.3</td>\n",
       "      <td>0.5</td>\n",
       "      <td>2.5</td>\n",
       "      <td>$1,974,159</td>\n",
       "      <td>Luke Babbitt</td>\n",
       "    </tr>\n",
       "    <tr>\n",
       "      <th>7</th>\n",
       "      <td>2017-18</td>\n",
       "      <td>28.0</td>\n",
       "      <td>ATL</td>\n",
       "      <td>NBA</td>\n",
       "      <td>SG</td>\n",
       "      <td>65.0</td>\n",
       "      <td>65.0</td>\n",
       "      <td>27.5</td>\n",
       "      <td>4.4</td>\n",
       "      <td>10.4</td>\n",
       "      <td>...</td>\n",
       "      <td>3.4</td>\n",
       "      <td>3.8</td>\n",
       "      <td>3.5</td>\n",
       "      <td>1.5</td>\n",
       "      <td>0.7</td>\n",
       "      <td>2.4</td>\n",
       "      <td>2.3</td>\n",
       "      <td>12.9</td>\n",
       "      <td>$16,910,113</td>\n",
       "      <td>Kent Bazemore</td>\n",
       "    </tr>\n",
       "    <tr>\n",
       "      <th>8</th>\n",
       "      <td>2018-19</td>\n",
       "      <td>29.0</td>\n",
       "      <td>ATL</td>\n",
       "      <td>NBA</td>\n",
       "      <td>SG</td>\n",
       "      <td>67.0</td>\n",
       "      <td>35.0</td>\n",
       "      <td>24.5</td>\n",
       "      <td>4.1</td>\n",
       "      <td>10.3</td>\n",
       "      <td>...</td>\n",
       "      <td>3.3</td>\n",
       "      <td>3.9</td>\n",
       "      <td>2.3</td>\n",
       "      <td>1.3</td>\n",
       "      <td>0.6</td>\n",
       "      <td>1.8</td>\n",
       "      <td>2.5</td>\n",
       "      <td>11.6</td>\n",
       "      <td>$18,089,887</td>\n",
       "      <td>Kent Bazemore</td>\n",
       "    </tr>\n",
       "    <tr>\n",
       "      <th>...</th>\n",
       "      <td>...</td>\n",
       "      <td>...</td>\n",
       "      <td>...</td>\n",
       "      <td>...</td>\n",
       "      <td>...</td>\n",
       "      <td>...</td>\n",
       "      <td>...</td>\n",
       "      <td>...</td>\n",
       "      <td>...</td>\n",
       "      <td>...</td>\n",
       "      <td>...</td>\n",
       "      <td>...</td>\n",
       "      <td>...</td>\n",
       "      <td>...</td>\n",
       "      <td>...</td>\n",
       "      <td>...</td>\n",
       "      <td>...</td>\n",
       "      <td>...</td>\n",
       "      <td>...</td>\n",
       "      <td>...</td>\n",
       "      <td>...</td>\n",
       "    </tr>\n",
       "    <tr>\n",
       "      <th>7</th>\n",
       "      <td>2018-19</td>\n",
       "      <td>25.0</td>\n",
       "      <td>CHI</td>\n",
       "      <td>NBA</td>\n",
       "      <td>SF</td>\n",
       "      <td>15.0</td>\n",
       "      <td>15.0</td>\n",
       "      <td>32.8</td>\n",
       "      <td>6.5</td>\n",
       "      <td>13.4</td>\n",
       "      <td>...</td>\n",
       "      <td>4.6</td>\n",
       "      <td>5.5</td>\n",
       "      <td>2.7</td>\n",
       "      <td>1.2</td>\n",
       "      <td>0.6</td>\n",
       "      <td>1.7</td>\n",
       "      <td>1.9</td>\n",
       "      <td>17.5</td>\n",
       "      <td>$26,011,913</td>\n",
       "      <td>Jontay Porter</td>\n",
       "    </tr>\n",
       "    <tr>\n",
       "      <th>8</th>\n",
       "      <td>2019-20</td>\n",
       "      <td>26.0</td>\n",
       "      <td>CHI</td>\n",
       "      <td>NBA</td>\n",
       "      <td>SF</td>\n",
       "      <td>14.0</td>\n",
       "      <td>9.0</td>\n",
       "      <td>23.6</td>\n",
       "      <td>4.4</td>\n",
       "      <td>10.0</td>\n",
       "      <td>...</td>\n",
       "      <td>2.5</td>\n",
       "      <td>3.4</td>\n",
       "      <td>1.8</td>\n",
       "      <td>1.1</td>\n",
       "      <td>0.4</td>\n",
       "      <td>0.8</td>\n",
       "      <td>2.2</td>\n",
       "      <td>11.9</td>\n",
       "      <td>$27,250,576</td>\n",
       "      <td>Jontay Porter</td>\n",
       "    </tr>\n",
       "    <tr>\n",
       "      <th>9</th>\n",
       "      <td>2020-21</td>\n",
       "      <td>27.0</td>\n",
       "      <td>TOT</td>\n",
       "      <td>NBA</td>\n",
       "      <td>PF,SF</td>\n",
       "      <td>28.0</td>\n",
       "      <td>6.0</td>\n",
       "      <td>21.6</td>\n",
       "      <td>3.5</td>\n",
       "      <td>8.1</td>\n",
       "      <td>...</td>\n",
       "      <td>4.4</td>\n",
       "      <td>5.4</td>\n",
       "      <td>2.0</td>\n",
       "      <td>0.6</td>\n",
       "      <td>0.1</td>\n",
       "      <td>0.9</td>\n",
       "      <td>1.5</td>\n",
       "      <td>9.7</td>\n",
       "      <td>NaN</td>\n",
       "      <td>Jontay Porter</td>\n",
       "    </tr>\n",
       "    <tr>\n",
       "      <th>10</th>\n",
       "      <td>2020-21</td>\n",
       "      <td>27.0</td>\n",
       "      <td>CHI</td>\n",
       "      <td>NBA</td>\n",
       "      <td>SF</td>\n",
       "      <td>25.0</td>\n",
       "      <td>6.0</td>\n",
       "      <td>21.6</td>\n",
       "      <td>3.6</td>\n",
       "      <td>8.1</td>\n",
       "      <td>...</td>\n",
       "      <td>4.4</td>\n",
       "      <td>5.5</td>\n",
       "      <td>2.0</td>\n",
       "      <td>0.5</td>\n",
       "      <td>0.2</td>\n",
       "      <td>1.0</td>\n",
       "      <td>1.5</td>\n",
       "      <td>9.9</td>\n",
       "      <td>NaN</td>\n",
       "      <td>Jontay Porter</td>\n",
       "    </tr>\n",
       "    <tr>\n",
       "      <th>11</th>\n",
       "      <td>2020-21</td>\n",
       "      <td>27.0</td>\n",
       "      <td>ORL</td>\n",
       "      <td>NBA</td>\n",
       "      <td>PF</td>\n",
       "      <td>3.0</td>\n",
       "      <td>0.0</td>\n",
       "      <td>22.0</td>\n",
       "      <td>3.0</td>\n",
       "      <td>8.3</td>\n",
       "      <td>...</td>\n",
       "      <td>4.7</td>\n",
       "      <td>4.7</td>\n",
       "      <td>1.7</td>\n",
       "      <td>1.3</td>\n",
       "      <td>0.0</td>\n",
       "      <td>0.0</td>\n",
       "      <td>1.3</td>\n",
       "      <td>8.0</td>\n",
       "      <td>NaN</td>\n",
       "      <td>Jontay Porter</td>\n",
       "    </tr>\n",
       "  </tbody>\n",
       "</table>\n",
       "<p>2818 rows × 32 columns</p>\n",
       "</div>"
      ],
      "text/plain": [
       "     SEASON   AGE TEAM LEAGUE    POS     G    GS    MP   FG   FGA  ...  DRB  \\\n",
       "7   2017-18  28.0  TOT    NBA     SF  50.0  14.0  14.3  1.8   4.3  ...  1.8   \n",
       "8   2017-18  28.0  ATL    NBA     SF  37.0   9.0  15.4  2.2   4.5  ...  2.1   \n",
       "9   2017-18  28.0  MIA    NBA     SF  13.0   5.0  11.2  0.8   3.6  ...  1.0   \n",
       "7   2017-18  28.0  ATL    NBA     SG  65.0  65.0  27.5  4.4  10.4  ...  3.4   \n",
       "8   2018-19  29.0  ATL    NBA     SG  67.0  35.0  24.5  4.1  10.3  ...  3.3   \n",
       "..      ...   ...  ...    ...    ...   ...   ...   ...  ...   ...  ...  ...   \n",
       "7   2018-19  25.0  CHI    NBA     SF  15.0  15.0  32.8  6.5  13.4  ...  4.6   \n",
       "8   2019-20  26.0  CHI    NBA     SF  14.0   9.0  23.6  4.4  10.0  ...  2.5   \n",
       "9   2020-21  27.0  TOT    NBA  PF,SF  28.0   6.0  21.6  3.5   8.1  ...  4.4   \n",
       "10  2020-21  27.0  CHI    NBA     SF  25.0   6.0  21.6  3.6   8.1  ...  4.4   \n",
       "11  2020-21  27.0  ORL    NBA     PF   3.0   0.0  22.0  3.0   8.3  ...  4.7   \n",
       "\n",
       "    TRB  AST  STL  BLK  TOV   PF   PTS       SALARY           NAME  \n",
       "7   1.9  0.6  0.2  0.1  0.4  1.1   5.2   $1,974,159   Luke Babbitt  \n",
       "8   2.2  0.7  0.2  0.1  0.4  1.3   6.1   $1,974,159   Luke Babbitt  \n",
       "9   1.2  0.4  0.1  0.2  0.3  0.5   2.5   $1,974,159   Luke Babbitt  \n",
       "7   3.8  3.5  1.5  0.7  2.4  2.3  12.9  $16,910,113  Kent Bazemore  \n",
       "8   3.9  2.3  1.3  0.6  1.8  2.5  11.6  $18,089,887  Kent Bazemore  \n",
       "..  ...  ...  ...  ...  ...  ...   ...          ...            ...  \n",
       "7   5.5  2.7  1.2  0.6  1.7  1.9  17.5  $26,011,913  Jontay Porter  \n",
       "8   3.4  1.8  1.1  0.4  0.8  2.2  11.9  $27,250,576  Jontay Porter  \n",
       "9   5.4  2.0  0.6  0.1  0.9  1.5   9.7          NaN  Jontay Porter  \n",
       "10  5.5  2.0  0.5  0.2  1.0  1.5   9.9          NaN  Jontay Porter  \n",
       "11  4.7  1.7  1.3  0.0  0.0  1.3   8.0          NaN  Jontay Porter  \n",
       "\n",
       "[2818 rows x 32 columns]"
      ]
     },
     "execution_count": 7,
     "metadata": {},
     "output_type": "execute_result"
    }
   ],
   "source": [
    "main_data = pd.read_csv('data/main_data.csv', index_col=0)\n",
    "main_data"
   ]
  },
  {
   "cell_type": "code",
   "execution_count": 8,
   "metadata": {},
   "outputs": [
    {
     "data": {
      "text/html": [
       "<div>\n",
       "<style scoped>\n",
       "    .dataframe tbody tr th:only-of-type {\n",
       "        vertical-align: middle;\n",
       "    }\n",
       "\n",
       "    .dataframe tbody tr th {\n",
       "        vertical-align: top;\n",
       "    }\n",
       "\n",
       "    .dataframe thead th {\n",
       "        text-align: right;\n",
       "    }\n",
       "</style>\n",
       "<table border=\"1\" class=\"dataframe\">\n",
       "  <thead>\n",
       "    <tr style=\"text-align: right;\">\n",
       "      <th></th>\n",
       "      <th>Rk</th>\n",
       "      <th>Player</th>\n",
       "      <th>Tm</th>\n",
       "      <th>2020-21</th>\n",
       "      <th>2021-22</th>\n",
       "      <th>2022-23</th>\n",
       "      <th>2023-24</th>\n",
       "      <th>2024-25</th>\n",
       "      <th>2025-26</th>\n",
       "      <th>Signed Using</th>\n",
       "      <th>Guaranteed</th>\n",
       "    </tr>\n",
       "  </thead>\n",
       "  <tbody>\n",
       "    <tr>\n",
       "      <th>0</th>\n",
       "      <td>1</td>\n",
       "      <td>Stephen Curry</td>\n",
       "      <td>GSW</td>\n",
       "      <td>$43,006,362</td>\n",
       "      <td>$45,780,966</td>\n",
       "      <td>NaN</td>\n",
       "      <td>NaN</td>\n",
       "      <td>NaN</td>\n",
       "      <td>NaN</td>\n",
       "      <td>Bird Rights</td>\n",
       "      <td>$88,787,328</td>\n",
       "    </tr>\n",
       "    <tr>\n",
       "      <th>1</th>\n",
       "      <td>2</td>\n",
       "      <td>Russell Westbrook</td>\n",
       "      <td>WAS</td>\n",
       "      <td>$41,358,814</td>\n",
       "      <td>$44,211,146</td>\n",
       "      <td>$47,063,478</td>\n",
       "      <td>NaN</td>\n",
       "      <td>NaN</td>\n",
       "      <td>NaN</td>\n",
       "      <td>Bird Rights</td>\n",
       "      <td>$85,569,960</td>\n",
       "    </tr>\n",
       "    <tr>\n",
       "      <th>2</th>\n",
       "      <td>3</td>\n",
       "      <td>Chris Paul</td>\n",
       "      <td>PHO</td>\n",
       "      <td>$41,358,814</td>\n",
       "      <td>$44,211,146</td>\n",
       "      <td>NaN</td>\n",
       "      <td>NaN</td>\n",
       "      <td>NaN</td>\n",
       "      <td>NaN</td>\n",
       "      <td>Bird Rights</td>\n",
       "      <td>$41,358,814</td>\n",
       "    </tr>\n",
       "    <tr>\n",
       "      <th>3</th>\n",
       "      <td>4</td>\n",
       "      <td>John Wall</td>\n",
       "      <td>HOU</td>\n",
       "      <td>$41,254,920</td>\n",
       "      <td>$44,310,840</td>\n",
       "      <td>$47,366,760</td>\n",
       "      <td>NaN</td>\n",
       "      <td>NaN</td>\n",
       "      <td>NaN</td>\n",
       "      <td>Bird Rights</td>\n",
       "      <td>$85,565,760</td>\n",
       "    </tr>\n",
       "    <tr>\n",
       "      <th>4</th>\n",
       "      <td>5</td>\n",
       "      <td>James Harden</td>\n",
       "      <td>BRK</td>\n",
       "      <td>$40,824,000</td>\n",
       "      <td>$43,848,000</td>\n",
       "      <td>$46,872,000</td>\n",
       "      <td>NaN</td>\n",
       "      <td>NaN</td>\n",
       "      <td>NaN</td>\n",
       "      <td>Bird Rights</td>\n",
       "      <td>$84,672,000</td>\n",
       "    </tr>\n",
       "    <tr>\n",
       "      <th>...</th>\n",
       "      <td>...</td>\n",
       "      <td>...</td>\n",
       "      <td>...</td>\n",
       "      <td>...</td>\n",
       "      <td>...</td>\n",
       "      <td>...</td>\n",
       "      <td>...</td>\n",
       "      <td>...</td>\n",
       "      <td>...</td>\n",
       "      <td>...</td>\n",
       "      <td>...</td>\n",
       "    </tr>\n",
       "    <tr>\n",
       "      <th>558</th>\n",
       "      <td>509</td>\n",
       "      <td>Troy Williams</td>\n",
       "      <td>HOU</td>\n",
       "      <td>$122,741</td>\n",
       "      <td>$122,741</td>\n",
       "      <td>$122,741</td>\n",
       "      <td>NaN</td>\n",
       "      <td>NaN</td>\n",
       "      <td>NaN</td>\n",
       "      <td>NaN</td>\n",
       "      <td>$368,223</td>\n",
       "    </tr>\n",
       "    <tr>\n",
       "      <th>559</th>\n",
       "      <td>510</td>\n",
       "      <td>Freddie Gillespie</td>\n",
       "      <td>TOR</td>\n",
       "      <td>$116,903</td>\n",
       "      <td>$1,517,981</td>\n",
       "      <td>NaN</td>\n",
       "      <td>NaN</td>\n",
       "      <td>NaN</td>\n",
       "      <td>NaN</td>\n",
       "      <td>Minimum Salary</td>\n",
       "      <td>$116,903</td>\n",
       "    </tr>\n",
       "    <tr>\n",
       "      <th>560</th>\n",
       "      <td>511</td>\n",
       "      <td>Demetrius Jackson</td>\n",
       "      <td>BOS</td>\n",
       "      <td>$92,857</td>\n",
       "      <td>$92,857</td>\n",
       "      <td>$92,857</td>\n",
       "      <td>$92,857</td>\n",
       "      <td>NaN</td>\n",
       "      <td>NaN</td>\n",
       "      <td>NaN</td>\n",
       "      <td>$371,428</td>\n",
       "    </tr>\n",
       "    <tr>\n",
       "      <th>561</th>\n",
       "      <td>512</td>\n",
       "      <td>Chimezie Metu</td>\n",
       "      <td>SAC</td>\n",
       "      <td>$700,000</td>\n",
       "      <td>$1,762,796</td>\n",
       "      <td>$1,910,860</td>\n",
       "      <td>NaN</td>\n",
       "      <td>NaN</td>\n",
       "      <td>NaN</td>\n",
       "      <td>NaN</td>\n",
       "      <td>$750,000</td>\n",
       "    </tr>\n",
       "    <tr>\n",
       "      <th>562</th>\n",
       "      <td>513</td>\n",
       "      <td>Henry Ellenson</td>\n",
       "      <td>TOR</td>\n",
       "      <td>$50,000</td>\n",
       "      <td>NaN</td>\n",
       "      <td>NaN</td>\n",
       "      <td>NaN</td>\n",
       "      <td>NaN</td>\n",
       "      <td>NaN</td>\n",
       "      <td>NaN</td>\n",
       "      <td>$50,000</td>\n",
       "    </tr>\n",
       "  </tbody>\n",
       "</table>\n",
       "<p>563 rows × 11 columns</p>\n",
       "</div>"
      ],
      "text/plain": [
       "      Rk             Player   Tm      2020-21      2021-22      2022-23  \\\n",
       "0      1      Stephen Curry  GSW  $43,006,362  $45,780,966          NaN   \n",
       "1      2  Russell Westbrook  WAS  $41,358,814  $44,211,146  $47,063,478   \n",
       "2      3         Chris Paul  PHO  $41,358,814  $44,211,146          NaN   \n",
       "3      4          John Wall  HOU  $41,254,920  $44,310,840  $47,366,760   \n",
       "4      5       James Harden  BRK  $40,824,000  $43,848,000  $46,872,000   \n",
       "..   ...                ...  ...          ...          ...          ...   \n",
       "558  509      Troy Williams  HOU     $122,741     $122,741     $122,741   \n",
       "559  510  Freddie Gillespie  TOR     $116,903   $1,517,981          NaN   \n",
       "560  511  Demetrius Jackson  BOS      $92,857      $92,857      $92,857   \n",
       "561  512      Chimezie Metu  SAC     $700,000   $1,762,796   $1,910,860   \n",
       "562  513     Henry Ellenson  TOR      $50,000          NaN          NaN   \n",
       "\n",
       "     2023-24 2024-25 2025-26    Signed Using   Guaranteed  \n",
       "0        NaN     NaN     NaN     Bird Rights  $88,787,328  \n",
       "1        NaN     NaN     NaN     Bird Rights  $85,569,960  \n",
       "2        NaN     NaN     NaN     Bird Rights  $41,358,814  \n",
       "3        NaN     NaN     NaN     Bird Rights  $85,565,760  \n",
       "4        NaN     NaN     NaN     Bird Rights  $84,672,000  \n",
       "..       ...     ...     ...             ...          ...  \n",
       "558      NaN     NaN     NaN             NaN     $368,223  \n",
       "559      NaN     NaN     NaN  Minimum Salary     $116,903  \n",
       "560  $92,857     NaN     NaN             NaN     $371,428  \n",
       "561      NaN     NaN     NaN             NaN     $750,000  \n",
       "562      NaN     NaN     NaN             NaN      $50,000  \n",
       "\n",
       "[563 rows x 11 columns]"
      ]
     },
     "execution_count": 8,
     "metadata": {},
     "output_type": "execute_result"
    }
   ],
   "source": [
    "salaries_2021 = pd.read_csv('data/salaries_2021.csv', index_col=0)\n",
    "salaries_2021"
   ]
  },
  {
   "cell_type": "code",
   "execution_count": 9,
   "metadata": {},
   "outputs": [
    {
     "data": {
      "text/html": [
       "<div>\n",
       "<style scoped>\n",
       "    .dataframe tbody tr th:only-of-type {\n",
       "        vertical-align: middle;\n",
       "    }\n",
       "\n",
       "    .dataframe tbody tr th {\n",
       "        vertical-align: top;\n",
       "    }\n",
       "\n",
       "    .dataframe thead th {\n",
       "        text-align: right;\n",
       "    }\n",
       "</style>\n",
       "<table border=\"1\" class=\"dataframe\">\n",
       "  <thead>\n",
       "    <tr style=\"text-align: right;\">\n",
       "      <th></th>\n",
       "      <th>Player</th>\n",
       "      <th>2020-21</th>\n",
       "    </tr>\n",
       "  </thead>\n",
       "  <tbody>\n",
       "    <tr>\n",
       "      <th>0</th>\n",
       "      <td>Stephen Curry</td>\n",
       "      <td>$43,006,362</td>\n",
       "    </tr>\n",
       "    <tr>\n",
       "      <th>1</th>\n",
       "      <td>Russell Westbrook</td>\n",
       "      <td>$41,358,814</td>\n",
       "    </tr>\n",
       "    <tr>\n",
       "      <th>2</th>\n",
       "      <td>Chris Paul</td>\n",
       "      <td>$41,358,814</td>\n",
       "    </tr>\n",
       "    <tr>\n",
       "      <th>3</th>\n",
       "      <td>John Wall</td>\n",
       "      <td>$41,254,920</td>\n",
       "    </tr>\n",
       "    <tr>\n",
       "      <th>4</th>\n",
       "      <td>James Harden</td>\n",
       "      <td>$40,824,000</td>\n",
       "    </tr>\n",
       "    <tr>\n",
       "      <th>...</th>\n",
       "      <td>...</td>\n",
       "      <td>...</td>\n",
       "    </tr>\n",
       "    <tr>\n",
       "      <th>558</th>\n",
       "      <td>Troy Williams</td>\n",
       "      <td>$122,741</td>\n",
       "    </tr>\n",
       "    <tr>\n",
       "      <th>559</th>\n",
       "      <td>Freddie Gillespie</td>\n",
       "      <td>$116,903</td>\n",
       "    </tr>\n",
       "    <tr>\n",
       "      <th>560</th>\n",
       "      <td>Demetrius Jackson</td>\n",
       "      <td>$92,857</td>\n",
       "    </tr>\n",
       "    <tr>\n",
       "      <th>561</th>\n",
       "      <td>Chimezie Metu</td>\n",
       "      <td>$700,000</td>\n",
       "    </tr>\n",
       "    <tr>\n",
       "      <th>562</th>\n",
       "      <td>Henry Ellenson</td>\n",
       "      <td>$50,000</td>\n",
       "    </tr>\n",
       "  </tbody>\n",
       "</table>\n",
       "<p>513 rows × 2 columns</p>\n",
       "</div>"
      ],
      "text/plain": [
       "                Player      2020-21\n",
       "0        Stephen Curry  $43,006,362\n",
       "1    Russell Westbrook  $41,358,814\n",
       "2           Chris Paul  $41,358,814\n",
       "3            John Wall  $41,254,920\n",
       "4         James Harden  $40,824,000\n",
       "..                 ...          ...\n",
       "558      Troy Williams     $122,741\n",
       "559  Freddie Gillespie     $116,903\n",
       "560  Demetrius Jackson      $92,857\n",
       "561      Chimezie Metu     $700,000\n",
       "562     Henry Ellenson      $50,000\n",
       "\n",
       "[513 rows x 2 columns]"
      ]
     },
     "execution_count": 9,
     "metadata": {},
     "output_type": "execute_result"
    }
   ],
   "source": [
    "salaries_2021.drop(salaries_2021[salaries_2021['2021-22'] == 'Salary'].index, inplace=True)\n",
    "salaries_2021.drop(salaries_2021[salaries_2021['Rk'] == 'Rk'].index, inplace=True)\n",
    "salaries_2021_only = salaries_2021.filter(['Player', '2020-21'])\n",
    "salaries_2021_only.rename(columns={'2020-21' : 'SALARY', 'Player' : 'NAME'}, inplace=False)\n",
    "salaries_2021_only.reset_index(drop=True, inplace=False)\n",
    "salaries_2021_only"
   ]
  },
  {
   "cell_type": "code",
   "execution_count": 10,
   "metadata": {},
   "outputs": [],
   "source": [
    "twitter_df_test1 = pd.read_pickle('data/twitter_political_1.pkl')\n",
    "twitter_df_test2 = pd.read_pickle('data/twitter_political_2.pkl')\n",
    "twitter_df_test3 = pd.read_pickle('data/twitter_political_3.pkl')\n",
    "twitter_df_test4 = pd.read_pickle('data/twitter_political_4.pkl')\n",
    "twitter_labeled = pd.read_csv('data/labeled_tweets.csv', index_col=0)"
   ]
  },
  {
   "cell_type": "code",
   "execution_count": 11,
   "metadata": {},
   "outputs": [],
   "source": [
    "twitter_df = pd.concat([twitter_df_test1, twitter_df_test2, twitter_df_test3, twitter_df_test4], axis=0)"
   ]
  },
  {
   "cell_type": "code",
   "execution_count": 12,
   "metadata": {},
   "outputs": [
    {
     "data": {
      "text/html": [
       "<div>\n",
       "<style scoped>\n",
       "    .dataframe tbody tr th:only-of-type {\n",
       "        vertical-align: middle;\n",
       "    }\n",
       "\n",
       "    .dataframe tbody tr th {\n",
       "        vertical-align: top;\n",
       "    }\n",
       "\n",
       "    .dataframe thead th {\n",
       "        text-align: right;\n",
       "    }\n",
       "</style>\n",
       "<table border=\"1\" class=\"dataframe\">\n",
       "  <thead>\n",
       "    <tr style=\"text-align: right;\">\n",
       "      <th></th>\n",
       "      <th>name</th>\n",
       "      <th>screen_name</th>\n",
       "      <th>followers_count</th>\n",
       "      <th>statuses_count</th>\n",
       "      <th>account_created_at</th>\n",
       "      <th>full_text</th>\n",
       "      <th>created_at</th>\n",
       "      <th>favorite_count</th>\n",
       "      <th>retweet_count</th>\n",
       "      <th>retweeted</th>\n",
       "      <th>id</th>\n",
       "      <th>possibly_sensitive</th>\n",
       "      <th>filtered_tweets</th>\n",
       "      <th>political_bools</th>\n",
       "      <th>num_political</th>\n",
       "    </tr>\n",
       "  </thead>\n",
       "  <tbody>\n",
       "    <tr>\n",
       "      <th>0</th>\n",
       "      <td>Álex Abrines</td>\n",
       "      <td>alexabrines</td>\n",
       "      <td>54283.0</td>\n",
       "      <td>3118.0</td>\n",
       "      <td>2011-06-30 20:21:21+00:00</td>\n",
       "      <td>[@BertranX @ganchetto @KaskyCascante Bueno, fa...</td>\n",
       "      <td>[2021-05-16 08:49:29+00:00, 2021-05-16 08:28:3...</td>\n",
       "      <td>[2, 3, 180, 186, 1, 3, 28, 41, 0, 52, 156, 263...</td>\n",
       "      <td>[0, 0, 1, 16, 0, 0, 1, 0, 1014, 1, 6, 26, 7, 7...</td>\n",
       "      <td>[False, False, False, False, False, False, Fal...</td>\n",
       "      <td>[1393851084444217344, 1393845803412819969, 139...</td>\n",
       "      <td>[nan, False, False, nan, nan, nan, False, Fals...</td>\n",
       "      <td>[[bertranx, ganchetto, kaskycascant, bueno, ,,...</td>\n",
       "      <td>[0, 0, 0, 0, 0, 0, 0, 0, 0, 0, 0, 0, 0, 0, 1, ...</td>\n",
       "      <td>27</td>\n",
       "    </tr>\n",
       "    <tr>\n",
       "      <th>1</th>\n",
       "      <td>Quincy Acy</td>\n",
       "      <td>QuincyAcy</td>\n",
       "      <td>33445.0</td>\n",
       "      <td>16231.0</td>\n",
       "      <td>2009-04-10 16:04:23+00:00</td>\n",
       "      <td>[RT @Ballislife: The NBA needs more players th...</td>\n",
       "      <td>[2021-05-15 03:40:21+00:00, 2021-05-14 21:47:3...</td>\n",
       "      <td>[0, 0, 2, 1, 22, 1, 0, 259, 0, 0, 0, 0, 5, 9, ...</td>\n",
       "      <td>[541, 100, 0, 0, 0, 0, 3, 13, 593, 22, 7875, 1...</td>\n",
       "      <td>[False, False, False, False, False, False, Fal...</td>\n",
       "      <td>[1393410898027433986, 1393322139722334208, 139...</td>\n",
       "      <td>[False, nan, False, False, False, nan, False, ...</td>\n",
       "      <td>[[ballislif, :, nba, need, player, think, like...</td>\n",
       "      <td>[0, 0, 0, 0, 0, 0, 0, 0, 0, 0, 1, 1, 0, 0, 0, ...</td>\n",
       "      <td>141</td>\n",
       "    </tr>\n",
       "    <tr>\n",
       "      <th>2</th>\n",
       "      <td>Jaylen Adams</td>\n",
       "      <td>10jadams</td>\n",
       "      <td>4870.0</td>\n",
       "      <td>4721.0</td>\n",
       "      <td>2012-12-23 16:42:50+00:00</td>\n",
       "      <td>[RT @ComplexMusic: THE REAL IS BACK.\\n\\nJ. COL...</td>\n",
       "      <td>[2021-05-14 05:48:18+00:00, 2021-05-09 21:17:0...</td>\n",
       "      <td>[0, 0, 0, 0, 0, 2, 0, 0, 0, 5, 0, 0, 0, 28, 0,...</td>\n",
       "      <td>[3794, 3, 32212, 6457, 7516, 0, 3000, 6630, 20...</td>\n",
       "      <td>[False, False, False, False, False, False, Fal...</td>\n",
       "      <td>[1393080711364681729, 1391502508426764292, 138...</td>\n",
       "      <td>[False, False, nan, False, False, nan, nan, na...</td>\n",
       "      <td>[[complexmus, :, real, back, ., j., cole, ., t...</td>\n",
       "      <td>[0, 0, 0, 0, 0, 0, 0, 0, 0, 0, 0, 0, 0, 0, 0, ...</td>\n",
       "      <td>84</td>\n",
       "    </tr>\n",
       "    <tr>\n",
       "      <th>3</th>\n",
       "      <td>Steven Adams</td>\n",
       "      <td>RealStevenAdams</td>\n",
       "      <td>216669.0</td>\n",
       "      <td>1642.0</td>\n",
       "      <td>2013-03-09 03:15:09+00:00</td>\n",
       "      <td>[RT @StationCDRKelly: Every day is #EarthDay e...</td>\n",
       "      <td>[2021-04-22 20:42:30+00:00, 2021-02-18 20:00:0...</td>\n",
       "      <td>[0, 0, 0, 345, 54657, 0, 758, 0, 1648, 392, 58...</td>\n",
       "      <td>[812, 3321, 34, 10, 4306, 13692, 25, 10, 113, ...</td>\n",
       "      <td>[False, False, False, False, False, False, Fal...</td>\n",
       "      <td>[1385333211237031938, 1362492093051068416, 135...</td>\n",
       "      <td>[False, nan, nan, False, False, False, False, ...</td>\n",
       "      <td>[[stationcdrkelli, :, everi, day, earthday, ev...</td>\n",
       "      <td>[0, 0, 1, 0, 0, 0, 0, 0, 0, 0, 0, 0, 0, 0, 0, ...</td>\n",
       "      <td>51</td>\n",
       "    </tr>\n",
       "    <tr>\n",
       "      <th>4</th>\n",
       "      <td>Bam Adebayo</td>\n",
       "      <td>Bam1of1</td>\n",
       "      <td>180603.0</td>\n",
       "      <td>14228.0</td>\n",
       "      <td>2012-04-17 01:29:18+00:00</td>\n",
       "      <td>[Just Sad Bro.... @DwyaneWade @spidadmitchell ...</td>\n",
       "      <td>[2021-05-12 03:19:45+00:00, 2021-05-05 22:47:4...</td>\n",
       "      <td>[3573, 1000, 3060, 0, 17586, 0, 3756, 7299, 0,...</td>\n",
       "      <td>[208, 32, 392, 847, 935, 690, 546, 484, 41, 78...</td>\n",
       "      <td>[False, False, False, False, False, False, Fal...</td>\n",
       "      <td>[1392318550451363842, 1390075752629030912, 138...</td>\n",
       "      <td>[False, False, False, False, nan, False, False...</td>\n",
       "      <td>[[sad, bro, ...., dwyanewad, spidadmitchel, ht...</td>\n",
       "      <td>[0, 0, 0, 0, 0, 0, 0, 0, 0, 0, 0, 0, 0, 0, 1, ...</td>\n",
       "      <td>70</td>\n",
       "    </tr>\n",
       "  </tbody>\n",
       "</table>\n",
       "</div>"
      ],
      "text/plain": [
       "           name      screen_name  followers_count  statuses_count  \\\n",
       "0  Álex Abrines      alexabrines          54283.0          3118.0   \n",
       "1    Quincy Acy        QuincyAcy          33445.0         16231.0   \n",
       "2  Jaylen Adams         10jadams           4870.0          4721.0   \n",
       "3  Steven Adams  RealStevenAdams         216669.0          1642.0   \n",
       "4   Bam Adebayo          Bam1of1         180603.0         14228.0   \n",
       "\n",
       "         account_created_at  \\\n",
       "0 2011-06-30 20:21:21+00:00   \n",
       "1 2009-04-10 16:04:23+00:00   \n",
       "2 2012-12-23 16:42:50+00:00   \n",
       "3 2013-03-09 03:15:09+00:00   \n",
       "4 2012-04-17 01:29:18+00:00   \n",
       "\n",
       "                                           full_text  \\\n",
       "0  [@BertranX @ganchetto @KaskyCascante Bueno, fa...   \n",
       "1  [RT @Ballislife: The NBA needs more players th...   \n",
       "2  [RT @ComplexMusic: THE REAL IS BACK.\\n\\nJ. COL...   \n",
       "3  [RT @StationCDRKelly: Every day is #EarthDay e...   \n",
       "4  [Just Sad Bro.... @DwyaneWade @spidadmitchell ...   \n",
       "\n",
       "                                          created_at  \\\n",
       "0  [2021-05-16 08:49:29+00:00, 2021-05-16 08:28:3...   \n",
       "1  [2021-05-15 03:40:21+00:00, 2021-05-14 21:47:3...   \n",
       "2  [2021-05-14 05:48:18+00:00, 2021-05-09 21:17:0...   \n",
       "3  [2021-04-22 20:42:30+00:00, 2021-02-18 20:00:0...   \n",
       "4  [2021-05-12 03:19:45+00:00, 2021-05-05 22:47:4...   \n",
       "\n",
       "                                      favorite_count  \\\n",
       "0  [2, 3, 180, 186, 1, 3, 28, 41, 0, 52, 156, 263...   \n",
       "1  [0, 0, 2, 1, 22, 1, 0, 259, 0, 0, 0, 0, 5, 9, ...   \n",
       "2  [0, 0, 0, 0, 0, 2, 0, 0, 0, 5, 0, 0, 0, 28, 0,...   \n",
       "3  [0, 0, 0, 345, 54657, 0, 758, 0, 1648, 392, 58...   \n",
       "4  [3573, 1000, 3060, 0, 17586, 0, 3756, 7299, 0,...   \n",
       "\n",
       "                                       retweet_count  \\\n",
       "0  [0, 0, 1, 16, 0, 0, 1, 0, 1014, 1, 6, 26, 7, 7...   \n",
       "1  [541, 100, 0, 0, 0, 0, 3, 13, 593, 22, 7875, 1...   \n",
       "2  [3794, 3, 32212, 6457, 7516, 0, 3000, 6630, 20...   \n",
       "3  [812, 3321, 34, 10, 4306, 13692, 25, 10, 113, ...   \n",
       "4  [208, 32, 392, 847, 935, 690, 546, 484, 41, 78...   \n",
       "\n",
       "                                           retweeted  \\\n",
       "0  [False, False, False, False, False, False, Fal...   \n",
       "1  [False, False, False, False, False, False, Fal...   \n",
       "2  [False, False, False, False, False, False, Fal...   \n",
       "3  [False, False, False, False, False, False, Fal...   \n",
       "4  [False, False, False, False, False, False, Fal...   \n",
       "\n",
       "                                                  id  \\\n",
       "0  [1393851084444217344, 1393845803412819969, 139...   \n",
       "1  [1393410898027433986, 1393322139722334208, 139...   \n",
       "2  [1393080711364681729, 1391502508426764292, 138...   \n",
       "3  [1385333211237031938, 1362492093051068416, 135...   \n",
       "4  [1392318550451363842, 1390075752629030912, 138...   \n",
       "\n",
       "                                  possibly_sensitive  \\\n",
       "0  [nan, False, False, nan, nan, nan, False, Fals...   \n",
       "1  [False, nan, False, False, False, nan, False, ...   \n",
       "2  [False, False, nan, False, False, nan, nan, na...   \n",
       "3  [False, nan, nan, False, False, False, False, ...   \n",
       "4  [False, False, False, False, nan, False, False...   \n",
       "\n",
       "                                     filtered_tweets  \\\n",
       "0  [[bertranx, ganchetto, kaskycascant, bueno, ,,...   \n",
       "1  [[ballislif, :, nba, need, player, think, like...   \n",
       "2  [[complexmus, :, real, back, ., j., cole, ., t...   \n",
       "3  [[stationcdrkelli, :, everi, day, earthday, ev...   \n",
       "4  [[sad, bro, ...., dwyanewad, spidadmitchel, ht...   \n",
       "\n",
       "                                     political_bools  num_political  \n",
       "0  [0, 0, 0, 0, 0, 0, 0, 0, 0, 0, 0, 0, 0, 0, 1, ...             27  \n",
       "1  [0, 0, 0, 0, 0, 0, 0, 0, 0, 0, 1, 1, 0, 0, 0, ...            141  \n",
       "2  [0, 0, 0, 0, 0, 0, 0, 0, 0, 0, 0, 0, 0, 0, 0, ...             84  \n",
       "3  [0, 0, 1, 0, 0, 0, 0, 0, 0, 0, 0, 0, 0, 0, 0, ...             51  \n",
       "4  [0, 0, 0, 0, 0, 0, 0, 0, 0, 0, 0, 0, 0, 0, 1, ...             70  "
      ]
     },
     "execution_count": 12,
     "metadata": {},
     "output_type": "execute_result"
    }
   ],
   "source": [
    "twitter_df.head()"
   ]
  },
  {
   "cell_type": "code",
   "execution_count": 91,
   "metadata": {},
   "outputs": [],
   "source": [
    "# Positive Sentiment limit variable\n",
    "def political_bools_final(list_in, positive):\n",
    "    political_words_list = ['justice', 'political', 'blacklivesmatter', 'alllivesmatter', 'whitelivesmatter', 'bluelivesmatter', 'accountability', 'leftwing', 'rightwing', 'extremist', 'police-brutality', 'policereform',\n",
    "'george-perry-floyd', 'minneapolis', 'derekchauvin', 'thomaslane', 'kueng', 'tou-thao', 'breonnataylor', 'bretthankison', 'mylescosgrove', 'joshuajaynes', 'elijahmcclain', 'nathanwoodyard', 'jasonrosenblatt',\n",
    "'randyroedema', 'ahmaudarbery', 'gregorymcmichael', 'travismcmichael', 'williambryan', 'trayvonmartin', 'georgezimmerman', 'patriot', 'icantbreathe', 'saytheirname', 'sayhername', 'sayhisname', 'equality', 'equity',\n",
    "'discrimination', 'killing', 'murder', 'assassination', 'mental-health', 'racial-profiling', 'stereotypes', 'racist', 'arrest', 'warrant', 'unfair', 'trump', 'biden', 'america', 'amerikkka',\n",
    "'united-states', 'agenda', 'privilege', 'immunity', 'malfeasance', 'irresponsible', 'integrity', 'infringement', 'civil', 'violation', 'impunity', 'illegal', 'expose', 'dictatorship', 'authoritarian',\n",
    "'corruption',  'allegation', 'law', 'illegal', 'congress', 'courts', 'trial', 'progressive', 'liberal', 'conservative', 'democrat', 'republican', 'democracy', 'snowflake', 'bootlicker', 'activism', 'protest', 'country', \n",
    "'social-justice', 'partisan', 'ideology', 'political', 'oppression', 'leadership', 'anarchy', 'conflict', 'establishment', 'derekchauvin', 'thomas-lane', 'guilty', 'innocent', 'debate', 'coronavirus', 'corona', 'covid',\n",
    "'covid-19', 'chinese-virus', 'kung-flu', 'pandemic', 'hoax', 'covidiot', 'quarantine', 'mask', 'social-distance', 'lie', 'freedom', 'media', 'press', 'juneteenth', 'unconstitutional', 'empower', 'revolution', 'fascist', 'police',\n",
    "'cops', 'pigs', 'force', 'terrorism', 'platform', 'power', 'crime', 'criminal-justice-system', 'communist', 'capitalist', 'liberties', 'abuse', 'poc', 'polarization', 'protect', 'violence', 'police', 'brutality', 'breonna', 'violate'\n",
    "'violation', 'murdered', 'freedom', 'anti-mask', 'antimask', 'vaccine', 'vaccination', 'chauvin', 'government', 'govern', 'alleged', 'zimmerman', 'attack', 'slavery', 'segregated', 'segregation','Crow','brainwash',\n",
    "'tyranny', 'CDC', 'president', 'totalitarian', 'woke', 'staywoke', 'power', 'fight', 'troops', 'diversity', 'allocate', 'refugee', 'masculinity', 'toxic', 'rape', 'immigration', 'society', 'corp', 'corporation', 'masculine', 'displaced', 'desiccation'\n",
    "                           'repatriation', 'oppresive', 'administration', 'resettlement', 'defund', 'rayshard', 'resigned', 'resign', 'rittenhouse', 'kenosha', 'civility', 'presidential', 'capitol', 'riot', 'indigenous', 'arrested', 'privilege', \n",
    "                           'felony', 'weapon', 'war', 'siege', 'presidency', 'suppress', 'suppression', 'senator', 'congrssmen', 'reform', 'obama', 'michelleobama', 'barackobama', 'stopasianhate', 'stereotype', 'potus', 'clemency',\n",
    "                           'justiceforbreonnataylor', 'justiceforgeorgefloyd', 'finance', 'financial', 'literacy', 'accountable', 'blackhistorymonth', 'sexuality', 'pridemonth', 'assault', 'officer', 'kneel', 'pledge', 'allegiance', 'womenshistorymonth',\n",
    "                           'forthepeopleact', 'awareness', 'educate', 'education', 'israel', 'ramadan', 'eidmubarak', 'gaza', 'palestine', 'trayvon']\n",
    "    \n",
    "    political_stems = []\n",
    "    analyser = SentimentIntensityAnalyzer()\n",
    "    stemmer = SnowballStemmer('english')\n",
    "    political_tweets_bool = []\n",
    "    need_append = False\n",
    "    for word in political_words_list:\n",
    "        political_stems.append(stemmer.stem(word))\n",
    "        political_tweets = []\n",
    "    for i in range(0, len(list_in)):\n",
    "        need_append = False\n",
    "        if analyser.polarity_scores(' '.join(list_in[i]))['pos'] < positive:\n",
    "            for token in list_in[i]:\n",
    "                if token in political_stems:\n",
    "                    need_append = True\n",
    "        if need_append:\n",
    "            political_tweets_bool.append(1)\n",
    "        else:\n",
    "            political_tweets_bool.append(0)\n",
    "    return political_tweets_bool"
   ]
  },
  {
   "cell_type": "code",
   "execution_count": 88,
   "metadata": {},
   "outputs": [],
   "source": [
    "# Positive Sentiment < .3\n",
    "def political_bools_1(list_in):\n",
    "    political_words_list = ['justice', 'political', 'blacklivesmatter', 'alllivesmatter', 'whitelivesmatter', 'bluelivesmatter', 'accountability', 'leftwing', 'rightwing', 'extremist', 'police-brutality', 'policereform',\n",
    "'george-perry-floyd', 'minneapolis', 'derekchauvin', 'thomaslane', 'kueng', 'tou-thao', 'breonnataylor', 'bretthankison', 'mylescosgrove', 'joshuajaynes', 'elijahmcclain', 'nathanwoodyard', 'jasonrosenblatt',\n",
    "'randyroedema', 'ahmaudarbery', 'gregorymcmichael', 'travismcmichael', 'williambryan', 'trayvonmartin', 'georgezimmerman', 'patriot', 'icantbreathe', 'saytheirname', 'sayhername', 'sayhisname', 'equality', 'equity',\n",
    "'discrimination', 'killing', 'murder', 'assassination', 'mental-health', 'racial-profiling', 'stereotypes', 'racist', 'arrest', 'warrant', 'unfair', 'trump', 'biden', 'america', 'amerikkka',\n",
    "'united-states', 'agenda', 'privilege', 'immunity', 'malfeasance', 'irresponsible', 'integrity', 'infringement', 'civil', 'violation', 'impunity', 'illegal', 'expose', 'dictatorship', 'authoritarian',\n",
    "'corruption',  'allegation', 'law', 'illegal', 'congress', 'courts', 'trial', 'progressive', 'liberal', 'conservative', 'democrat', 'republican', 'democracy', 'snowflake', 'bootlicker', 'activism', 'protest', 'country', \n",
    "'social-justice', 'partisan', 'ideology', 'political', 'oppression', 'leadership', 'anarchy', 'conflict', 'establishment', 'derekchauvin', 'thomas-lane', 'guilty', 'innocent', 'debate', 'coronavirus', 'corona', 'covid',\n",
    "'covid-19', 'chinese-virus', 'kung-flu', 'pandemic', 'hoax', 'covidiot', 'quarantine', 'mask', 'social-distance', 'lie', 'freedom', 'media', 'press', 'juneteenth', 'unconstitutional', 'empower', 'revolution', 'fascist', 'police',\n",
    "'cops', 'pigs', 'force', 'terrorism', 'platform', 'power', 'crime', 'criminal-justice-system', 'communist', 'capitalist', 'liberties', 'abuse', 'poc', 'polarization', 'protect', 'violence', 'police', 'brutality', 'breonna', 'violate'\n",
    "'violation', 'murdered', 'freedom', 'anti-mask', 'antimask', 'vaccine', 'vaccination', 'chauvin', 'government', 'govern', 'alleged', 'zimmerman', 'attack', 'slavery', 'segregated', 'segregation','Crow','brainwash',\n",
    "'tyranny', 'CDC', 'president', 'totalitarian', 'woke', 'staywoke', 'power', 'fight', 'troops', 'diversity', 'allocate', 'refugee', 'masculinity', 'toxic', 'rape', 'immigration', 'society', 'corp', 'corporation', 'masculine', 'displaced', 'desiccation'\n",
    "                           'repatriation', 'oppresive', 'administration', 'resettlement', 'defund', 'rayshard', 'resigned', 'resign', 'rittenhouse', 'kenosha', 'civility', 'presidential', 'capitol', 'riot', 'indigenous', 'arrested', 'privilege', \n",
    "                           'felony', 'weapon', 'war', 'siege', 'presidency', 'suppress', 'suppression', 'senator', 'congrssmen', 'reform', 'obama', 'michelleobama', 'barackobama', 'stopasianhate', 'stereotype', 'potus', 'clemency',\n",
    "                           'justiceforbreonnataylor', 'justiceforgeorgefloyd', 'finance', 'financial', 'literacy', 'accountable', 'blackhistorymonth', 'sexuality', 'pridemonth', 'assault', 'officer', 'kneel', 'pledge', 'allegiance', 'womenshistorymonth',\n",
    "                           'forthepeopleact', 'awareness', 'educate', 'education', 'israel', 'ramadan', 'eidmubarak', 'gaza', 'palestine', 'trayvon']\n",
    "    \n",
    "    political_stems = []\n",
    "    analyser = SentimentIntensityAnalyzer()\n",
    "    stemmer = SnowballStemmer('english')\n",
    "    political_tweets_bool = []\n",
    "    need_append = False\n",
    "    for word in political_words_list:\n",
    "        political_stems.append(stemmer.stem(word))\n",
    "        political_tweets = []\n",
    "    for i in range(0, len(list_in)):\n",
    "        need_append = False\n",
    "        if analyser.polarity_scores(' '.join(list_in[i]))['pos'] < .44:\n",
    "            for token in list_in[i]:\n",
    "                if token in political_stems:\n",
    "                    need_append = True\n",
    "        if need_append:\n",
    "            political_tweets_bool.append(1)\n",
    "        else:\n",
    "            political_tweets_bool.append(0)\n",
    "    return political_tweets_bool"
   ]
  },
  {
   "cell_type": "code",
   "execution_count": 74,
   "metadata": {},
   "outputs": [],
   "source": [
    "# No Sentiment Analysis\n",
    "def political_bools_2(list_in):\n",
    "    political_words_list = ['justice', 'political', 'blacklivesmatter', 'alllivesmatter', 'whitelivesmatter', 'bluelivesmatter', 'accountability', 'leftwing', 'rightwing', 'extremist', 'police-brutality', 'policereform',\n",
    "'george-perry-floyd', 'minneapolis', 'derekchauvin', 'thomaslane', 'kueng', 'tou-thao', 'breonnataylor', 'bretthankison', 'mylescosgrove', 'joshuajaynes', 'elijahmcclain', 'nathanwoodyard', 'jasonrosenblatt',\n",
    "'randyroedema', 'ahmaudarbery', 'gregorymcmichael', 'travismcmichael', 'williambryan', 'trayvonmartin', 'georgezimmerman', 'patriot', 'icantbreathe', 'saytheirname', 'sayhername', 'sayhisname', 'equality', 'equity',\n",
    "'discrimination', 'killing', 'murder', 'assassination', 'mental-health', 'racial-profiling', 'stereotypes', 'racist', 'arrest', 'warrant', 'unfair', 'trump', 'biden', 'america', 'amerikkka',\n",
    "'united-states', 'agenda', 'privilege', 'immunity', 'malfeasance', 'irresponsible', 'integrity', 'infringement', 'civil', 'violation', 'impunity', 'illegal', 'expose', 'dictatorship', 'authoritarian',\n",
    "'corruption',  'allegation', 'law', 'illegal', 'congress', 'courts', 'trial', 'progressive', 'liberal', 'conservative', 'democrat', 'republican', 'democracy', 'snowflake', 'bootlicker', 'activism', 'protest', 'country', \n",
    "'social-justice', 'partisan', 'ideology', 'political', 'oppression', 'leadership', 'anarchy', 'conflict', 'establishment', 'derekchauvin', 'thomas-lane', 'guilty', 'innocent', 'debate', 'coronavirus', 'corona', 'covid',\n",
    "'covid-19', 'chinese-virus', 'kung-flu', 'pandemic', 'hoax', 'covidiot', 'quarantine', 'mask', 'social-distance', 'lie', 'freedom', 'media', 'press', 'juneteenth', 'unconstitutional', 'empower', 'revolution', 'fascist', 'police',\n",
    "'cops', 'pigs', 'force', 'terrorism', 'platform', 'power', 'crime', 'criminal-justice-system', 'communist', 'capitalist', 'liberties', 'abuse', 'poc', 'polarization', 'protect', 'violence', 'police', 'brutality', 'breonna', 'violate'\n",
    "'violation', 'murdered', 'freedom', 'anti-mask', 'antimask', 'vaccine', 'vaccination', 'chauvin', 'government', 'govern', 'alleged', 'zimmerman', 'attack', 'slavery', 'segregated', 'segregation','Crow','brainwash',\n",
    "'tyranny', 'CDC', 'president', 'totalitarian', 'woke', 'staywoke', 'power', 'fight', 'troops', 'diversity', 'allocate', 'refugee', 'masculinity', 'toxic', 'rape', 'immigration', 'society', 'corp', 'corporation', 'masculine', 'displaced', 'desiccation'\n",
    "                           'repatriation', 'oppresive', 'administration', 'resettlement', 'defund', 'rayshard', 'resigned', 'resign', 'rittenhouse', 'kenosha', 'civility', 'presidential', 'capitol', 'riot', 'indigenous', 'arrested', 'privilege', \n",
    "                           'felony', 'weapon', 'war', 'siege', 'presidency', 'suppress', 'suppression', 'senator', 'congrssmen', 'reform', 'obama', 'michelleobama', 'barackobama', 'stopasianhate', 'stereotype', 'potus', 'clemency',\n",
    "                           'justiceforbreonnataylor', 'justiceforgeorgefloyd', 'finance', 'financial', 'literacy', 'accountable', 'blackhistorymonth', 'sexuality', 'pridemonth', 'assault', 'officer', 'kneel', 'pledge', 'allegiance', 'womenshistorymonth',\n",
    "                           'forthepeopleact', 'awareness', 'educate', 'education', 'israel', 'ramadan', 'eidmubarak', 'gaza', 'palestine', 'trayvon']\n",
    "    \n",
    "    political_stems = []\n",
    "    analyser = SentimentIntensityAnalyzer()\n",
    "    stemmer = SnowballStemmer('english')\n",
    "    political_tweets_bool = []\n",
    "    need_append = False\n",
    "    for word in political_words_list:\n",
    "        political_stems.append(stemmer.stem(word))\n",
    "        political_tweets = []\n",
    "    for i in range(0, len(list_in)):\n",
    "        need_append = False\n",
    "        if analyser.polarity_scores(' '.join(list_in[i]))['compound'] != -5:\n",
    "            for token in list_in[i]:\n",
    "                if token in political_stems:\n",
    "                    need_append = True\n",
    "        if need_append:\n",
    "            political_tweets_bool.append(1)\n",
    "        else:\n",
    "            political_tweets_bool.append(0)\n",
    "    return political_tweets_bool"
   ]
  },
  {
   "cell_type": "code",
   "execution_count": 75,
   "metadata": {},
   "outputs": [],
   "source": [
    "# Compound sentiment != 0\n",
    "def political_bools_3(list_in):\n",
    "    political_words_list = ['justice', 'political', 'blacklivesmatter', 'alllivesmatter', 'whitelivesmatter', 'bluelivesmatter', 'accountability', 'leftwing', 'rightwing', 'extremist', 'police-brutality', 'policereform',\n",
    "'george-perry-floyd', 'minneapolis', 'derekchauvin', 'thomaslane', 'kueng', 'tou-thao', 'breonnataylor', 'bretthankison', 'mylescosgrove', 'joshuajaynes', 'elijahmcclain', 'nathanwoodyard', 'jasonrosenblatt',\n",
    "'randyroedema', 'ahmaudarbery', 'gregorymcmichael', 'travismcmichael', 'williambryan', 'trayvonmartin', 'georgezimmerman', 'patriot', 'icantbreathe', 'saytheirname', 'sayhername', 'sayhisname', 'equality', 'equity',\n",
    "'discrimination', 'killing', 'murder', 'assassination', 'mental-health', 'racial-profiling', 'stereotypes', 'racist', 'arrest', 'warrant', 'unfair', 'trump', 'biden', 'america', 'amerikkka',\n",
    "'united-states', 'agenda', 'privilege', 'immunity', 'malfeasance', 'irresponsible', 'integrity', 'infringement', 'civil', 'violation', 'impunity', 'illegal', 'expose', 'dictatorship', 'authoritarian',\n",
    "'corruption',  'allegation', 'law', 'illegal', 'congress', 'courts', 'trial', 'progressive', 'liberal', 'conservative', 'democrat', 'republican', 'democracy', 'snowflake', 'bootlicker', 'activism', 'protest', 'country', \n",
    "'social-justice', 'partisan', 'ideology', 'political', 'oppression', 'leadership', 'anarchy', 'conflict', 'establishment', 'derekchauvin', 'thomas-lane', 'guilty', 'innocent', 'debate', 'coronavirus', 'corona', 'covid',\n",
    "'covid-19', 'chinese-virus', 'kung-flu', 'pandemic', 'hoax', 'covidiot', 'quarantine', 'mask', 'social-distance', 'lie', 'freedom', 'media', 'press', 'juneteenth', 'unconstitutional', 'empower', 'revolution', 'fascist', 'police',\n",
    "'cops', 'pigs', 'force', 'terrorism', 'platform', 'power', 'crime', 'criminal-justice-system', 'communist', 'capitalist', 'liberties', 'abuse', 'poc', 'polarization', 'protect', 'violence', 'police', 'brutality', 'breonna', 'violate'\n",
    "'violation', 'murdered', 'freedom', 'anti-mask', 'antimask', 'vaccine', 'vaccination', 'chauvin', 'government', 'govern', 'alleged', 'zimmerman', 'attack', 'slavery', 'segregated', 'segregation','Crow','brainwash',\n",
    "'tyranny', 'CDC', 'president', 'totalitarian', 'woke', 'staywoke', 'power', 'fight', 'troops', 'diversity', 'allocate', 'refugee', 'masculinity', 'toxic', 'rape', 'immigration', 'society', 'corp', 'corporation', 'masculine', 'displaced', 'desiccation'\n",
    "                           'repatriation', 'oppresive', 'administration', 'resettlement', 'defund', 'rayshard', 'resigned', 'resign', 'rittenhouse', 'kenosha', 'civility', 'presidential', 'capitol', 'riot', 'indigenous', 'arrested', 'privilege', \n",
    "                           'felony', 'weapon', 'war', 'siege', 'presidency', 'suppress', 'suppression', 'senator', 'congrssmen', 'reform', 'obama', 'michelleobama', 'barackobama', 'stopasianhate', 'stereotype', 'potus', 'clemency',\n",
    "                           'justiceforbreonnataylor', 'justiceforgeorgefloyd', 'finance', 'financial', 'literacy', 'accountable', 'blackhistorymonth', 'sexuality', 'pridemonth', 'assault', 'officer', 'kneel', 'pledge', 'allegiance', 'womenshistorymonth',\n",
    "                           'forthepeopleact', 'awareness', 'educate', 'education', 'israel', 'ramadan', 'eidmubarak', 'gaza', 'palestine', 'trayvon']\n",
    "    \n",
    "    political_stems = []\n",
    "    analyser = SentimentIntensityAnalyzer()\n",
    "    stemmer = SnowballStemmer('english')\n",
    "    political_tweets_bool = []\n",
    "    need_append = False\n",
    "    for word in political_words_list:\n",
    "        political_stems.append(stemmer.stem(word))\n",
    "        political_tweets = []\n",
    "    for i in range(0, len(list_in)):\n",
    "        need_append = False\n",
    "        if analyser.polarity_scores(' '.join(list_in[i]))['compound'] != 0:\n",
    "            for token in list_in[i]:\n",
    "                if token in political_stems:\n",
    "                    need_append = True\n",
    "        if need_append:\n",
    "            political_tweets_bool.append(1)\n",
    "        else:\n",
    "            political_tweets_bool.append(0)\n",
    "    return political_tweets_bool"
   ]
  },
  {
   "cell_type": "code",
   "execution_count": 76,
   "metadata": {},
   "outputs": [],
   "source": [
    "y_true = pd.concat([twitter_labeled['Jamal Crawford'], twitter_labeled['Wenyen Gabriel'], twitter_labeled['Marquese Chriss'], \n",
    "                   twitter_labeled['Harrison Barnes'], twitter_labeled['Solomon Hill'], twitter_labeled['Garrett Temple'], \n",
    "                   twitter_labeled['Enes Kanter'], twitter_labeled['Ekpe Udoh'], twitter_labeled['Evan Turner'], \n",
    "                   twitter_labeled['Chris Paul'], twitter_labeled['Tobias Harris'], twitter_labeled['Carmelo Anthony'], \n",
    "                   twitter_labeled['LeBron James']])\n",
    "y_true = list(y_true)"
   ]
  },
  {
   "cell_type": "code",
   "execution_count": 77,
   "metadata": {},
   "outputs": [],
   "source": [
    "index_list = [158, 226, 131, 35, 292, 608, 356, 628, 626, 512, 270, 22, 330]\n",
    "y_pred_1 = []\n",
    "y_pred_2 = []\n",
    "y_pred_3 = []\n",
    "for index in index_list:\n",
    "    curr_100 = twitter_df['filtered_tweets'].iloc[index][0:100]\n",
    "    curr_bools_1 = political_bools_1(curr_100)\n",
    "    curr_bools_2 = political_bools_2(curr_100)\n",
    "    curr_bools_3 = political_bools_3(curr_100)\n",
    "    y_pred_1 += curr_bools_1\n",
    "    y_pred_2 += curr_bools_2\n",
    "    y_pred_3 += curr_bools_3\n",
    "confuse_matrix_1 = confusion_matrix(y_true, y_pred_1)\n",
    "confuse_matrix_2 = confusion_matrix(y_true, y_pred_2)\n",
    "confuse_matrix_3 = confusion_matrix(y_true, y_pred_3)\n",
    "target_names = ['Non-Political', 'Political']"
   ]
  },
  {
   "cell_type": "code",
   "execution_count": 92,
   "metadata": {},
   "outputs": [
    {
     "data": {
      "text/plain": [
       "{0.42: 0.7142857142857143,\n",
       " 0.425: 0.7121661721068249,\n",
       " 0.43: 0.7159763313609468,\n",
       " 0.435: 0.7159763313609468,\n",
       " 0.44: 0.7159763313609468,\n",
       " 0.445: 0.7159763313609468,\n",
       " 0.45: 0.7138643067846608,\n",
       " 0.455: 0.7138643067846608,\n",
       " 0.46: 0.7138643067846608,\n",
       " 0.465: 0.7138643067846608,\n",
       " 0.47: 0.7117647058823529,\n",
       " 0.475: 0.7117647058823529,\n",
       " 0.48: 0.7117647058823529,\n",
       " 0.485: 0.7117647058823529,\n",
       " 0.49: 0.7117647058823529,\n",
       " 0.495: 0.7117647058823529,\n",
       " 0.5: 0.7117647058823529,\n",
       " 0.505: 0.7117647058823529,\n",
       " 0.51: 0.7117647058823529,\n",
       " 0.515: 0.7096774193548389,\n",
       " 0.52: 0.7096774193548389}"
      ]
     },
     "execution_count": 92,
     "metadata": {},
     "output_type": "execute_result"
    }
   ],
   "source": [
    "input_nums = [.42, .425, .43, .435, .44, .445, .45, .455, .46, .465, .47, .475, .48, .485, .49, .495, .5, .505, .51, .515, .52]\n",
    "test_input_pos(input_nums)"
   ]
  },
  {
   "cell_type": "code",
   "execution_count": 80,
   "metadata": {},
   "outputs": [],
   "source": [
    "def test_input_pos(input_nums):\n",
    "    index_list = [158, 226, 131, 35, 292, 608, 356, 628, 626, 512, 270, 22, 330]\n",
    "    f1_scores = []\n",
    "    for num in input_nums:\n",
    "        y_pred = []\n",
    "        for index in index_list:\n",
    "            curr_100 = twitter_df['filtered_tweets'].iloc[index][0:100]\n",
    "            curr_bools = political_bools_tester(curr_100, num)\n",
    "            y_pred += curr_bools\n",
    "        f1_scores.append(f1_score(y_true, y_pred))\n",
    "    f1_dict = {input_nums[i]: f1_scores[i] for i in range(len(input_nums))}\n",
    "    return f1_dict"
   ]
  },
  {
   "cell_type": "code",
   "execution_count": 89,
   "metadata": {},
   "outputs": [
    {
     "name": "stdout",
     "output_type": "stream",
     "text": [
      "f1_score: 0.716\n"
     ]
    },
    {
     "data": {
      "image/png": "[encoded data removed]",
      "text/plain": [
       "<Figure size 720x720 with 2 Axes>"
      ]
     },
     "metadata": {
      "needs_background": "light"
     },
     "output_type": "display_data"
    }
   ],
   "source": [
    "plt.figure(figsize=(10, 10))\n",
    "print(\"f1_score: %.3f\" % f1_score(y_true, y_pred_1))\n",
    "ax = sns.heatmap(confuse_matrix_1/np.sum(confuse_matrix_1), cmap='Blues', annot=True, fmt='.2%')\n",
    "ax.set_xticklabels(target_names)\n",
    "ax.set_yticklabels(target_names)\n",
    "plt.yticks(fontsize=10, rotation=0)\n",
    "plt.xticks(fontsize=10, rotation=0);"
   ]
  },
  {
   "cell_type": "code",
   "execution_count": 90,
   "metadata": {},
   "outputs": [
    {
     "name": "stdout",
     "output_type": "stream",
     "text": [
      "f1_score: 0.711\n"
     ]
    },
    {
     "data": {
      "image/png": "[encoded data removed]",
      "text/plain": [
       "<Figure size 720x720 with 2 Axes>"
      ]
     },
     "metadata": {
      "needs_background": "light"
     },
     "output_type": "display_data"
    }
   ],
   "source": [
    "plt.figure(figsize=(10, 10))\n",
    "ax = sns.heatmap(confuse_matrix_2/np.sum(confuse_matrix_2), cmap='Blues', annot=True, fmt='.2%')\n",
    "print(\"f1_score: %.3f\" % f1_score(y_true, y_pred_2))\n",
    "ax.set_xticklabels(target_names)\n",
    "ax.set_yticklabels(target_names)\n",
    "plt.yticks(fontsize=10, rotation=0)\n",
    "plt.xticks(fontsize=10, rotation=0);"
   ]
  },
  {
   "cell_type": "code",
   "execution_count": 37,
   "metadata": {},
   "outputs": [
    {
     "name": "stdout",
     "output_type": "stream",
     "text": [
      "f1_score: 0.646\n"
     ]
    },
    {
     "data": {
      "image/png": "[encoded data removed]",
      "text/plain": [
       "<Figure size 720x720 with 2 Axes>"
      ]
     },
     "metadata": {
      "needs_background": "light"
     },
     "output_type": "display_data"
    }
   ],
   "source": [
    "plt.figure(figsize=(10, 10))\n",
    "ax = sns.heatmap(confuse_matrix_3/np.sum(confuse_matrix_3), cmap='Blues', annot=True, fmt='.2%')\n",
    "print(\"f1_score: %.3f\" % f1_score(y_true, y_pred_3))\n",
    "ax.set_xticklabels(target_names)\n",
    "ax.set_yticklabels(target_names)\n",
    "plt.yticks(fontsize=10, rotation=0)\n",
    "plt.xticks(fontsize=10, rotation=0);"
   ]
  },
  {
   "cell_type": "code",
   "execution_count": 23,
   "metadata": {},
   "outputs": [
    {
     "data": {
      "text/plain": [
       "full_text             3000\n",
       "created_at            3000\n",
       "favorite_count        3000\n",
       "retweet_count         3000\n",
       "retweeted             3000\n",
       "id                    3000\n",
       "possibly_sensitive    3000\n",
       "Name: 0, dtype: int64"
      ]
     },
     "execution_count": 23,
     "metadata": {},
     "output_type": "execute_result"
    }
   ],
   "source": [
    "twitter_df[['full_text', 'created_at', 'favorite_count', 'retweet_count', 'retweeted', 'id', 'possibly_sensitive']].iloc[0].apply(lambda x: len(x))"
   ]
  },
  {
   "cell_type": "code",
   "execution_count": 24,
   "metadata": {},
   "outputs": [
    {
     "data": {
      "text/plain": [
       "name                               object\n",
       "screen_name                        object\n",
       "followers_count                   float64\n",
       "statuses_count                    float64\n",
       "account_created_at    datetime64[ns, UTC]\n",
       "full_text                          object\n",
       "created_at                         object\n",
       "favorite_count                     object\n",
       "retweet_count                      object\n",
       "retweeted                          object\n",
       "id                                 object\n",
       "possibly_sensitive                 object\n",
       "filtered_tweets                    object\n",
       "political_bools                    object\n",
       "num_political                       int64\n",
       "dtype: object"
      ]
     },
     "execution_count": 24,
     "metadata": {},
     "output_type": "execute_result"
    }
   ],
   "source": [
    "twitter_df.dtypes"
   ]
  },
  {
   "cell_type": "markdown",
   "metadata": {},
   "source": [
    "# Data Cleaning"
   ]
  },
  {
   "cell_type": "markdown",
   "metadata": {},
   "source": [
    "Describe your data cleaning steps here."
   ]
  },
  {
   "cell_type": "markdown",
   "metadata": {},
   "source": [
    "Refer to the datacheckpoint notebook as the cleaning process takes up to half an hour to run depending on the machine. <br>\n",
    "The data loaded in this notebook have already been cleaned"
   ]
  },
  {
   "cell_type": "markdown",
   "metadata": {},
   "source": [
    "# Data Analysis & Results (EDA)"
   ]
  },
  {
   "cell_type": "markdown",
   "metadata": {},
   "source": [
    "Carry out EDA on your dataset(s); Describe in this section"
   ]
  },
  {
   "cell_type": "markdown",
   "metadata": {},
   "source": [
    "### Scatter Matrix of everything in the Twitter dataset"
   ]
  },
  {
   "cell_type": "code",
   "execution_count": 25,
   "metadata": {},
   "outputs": [
    {
     "name": "stderr",
     "output_type": "stream",
     "text": [
      "C:\\Users\\Q's\\AppData\\Roaming\\Python\\Python38\\site-packages\\pandas\\plotting\\_matplotlib\\tools.py:307: MatplotlibDeprecationWarning: \n",
      "The rowNum attribute was deprecated in Matplotlib 3.2 and will be removed two minor releases later. Use ax.get_subplotspec().rowspan.start instead.\n",
      "  layout[ax.rowNum, ax.colNum] = ax.get_visible()\n",
      "C:\\Users\\Q's\\AppData\\Roaming\\Python\\Python38\\site-packages\\pandas\\plotting\\_matplotlib\\tools.py:307: MatplotlibDeprecationWarning: \n",
      "The colNum attribute was deprecated in Matplotlib 3.2 and will be removed two minor releases later. Use ax.get_subplotspec().colspan.start instead.\n",
      "  layout[ax.rowNum, ax.colNum] = ax.get_visible()\n",
      "C:\\Users\\Q's\\AppData\\Roaming\\Python\\Python38\\site-packages\\pandas\\plotting\\_matplotlib\\tools.py:313: MatplotlibDeprecationWarning: \n",
      "The rowNum attribute was deprecated in Matplotlib 3.2 and will be removed two minor releases later. Use ax.get_subplotspec().rowspan.start instead.\n",
      "  if not layout[ax.rowNum + 1, ax.colNum]:\n",
      "C:\\Users\\Q's\\AppData\\Roaming\\Python\\Python38\\site-packages\\pandas\\plotting\\_matplotlib\\tools.py:313: MatplotlibDeprecationWarning: \n",
      "The colNum attribute was deprecated in Matplotlib 3.2 and will be removed two minor releases later. Use ax.get_subplotspec().colspan.start instead.\n",
      "  if not layout[ax.rowNum + 1, ax.colNum]:\n"
     ]
    },
    {
     "data": {
      "image/png": "[encoded data removed]",
      "text/plain": [
       "<Figure size 432x288 with 9 Axes>"
      ]
     },
     "metadata": {
      "needs_background": "light"
     },
     "output_type": "display_data"
    }
   ],
   "source": [
    "pd.plotting.scatter_matrix(twitter_df);"
   ]
  },
  {
   "cell_type": "markdown",
   "metadata": {},
   "source": [
    "***The Overall Twitter data set can be observed to have various relationships, that can be explored more deeply, between the Follower Count, Status Count, and Number of Political Tweets by each Basket Ball Player. For example. the most noticeable being the relationship between a players number of political tweets and their status count***"
   ]
  },
  {
   "cell_type": "markdown",
   "metadata": {},
   "source": [
    "### Scatter Matrix of Effective Game Percentage, Points, Salary, Total Rebounds, Assists, and Blocks"
   ]
  },
  {
   "cell_type": "code",
   "execution_count": 26,
   "metadata": {
    "scrolled": true
   },
   "outputs": [
    {
     "name": "stderr",
     "output_type": "stream",
     "text": [
      "<ipython-input-26-be61c51b31a3>:1: FutureWarning: Sorting because non-concatenation axis is not aligned. A future version\n",
      "of pandas will change to not sort by default.\n",
      "\n",
      "To accept the future behavior, pass 'sort=False'.\n",
      "\n",
      "To retain the current behavior and silence the warning, pass 'sort=True'.\n",
      "\n",
      "  stats_data_df = pd.concat([df_2017, df_2018, df_2019, df_2020], axis=0)\n"
     ]
    },
    {
     "data": {
      "image/png": "[encoded data removed]",
      "text/plain": [
       "<Figure size 432x288 with 36 Axes>"
      ]
     },
     "metadata": {
      "needs_background": "light"
     },
     "output_type": "display_data"
    }
   ],
   "source": [
    "stats_data_df = pd.concat([df_2017, df_2018, df_2019, df_2020], axis=0)\n",
    "stats_data_df = stats_data_df[['eFG%', 'PTS', 'SALARY', 'TRB', 'AST', 'BLK']]\n",
    "axes = pd.plotting.scatter_matrix(stats_data_df);\n",
    "for ax in axes.flatten():\n",
    "    ax.xaxis.label.set_rotation(90)\n",
    "    ax.yaxis.label.set_rotation(0)\n",
    "    ax.yaxis.label.set_ha('right')"
   ]
  },
  {
   "cell_type": "markdown",
   "metadata": {},
   "source": [
    "***The Overall Main Data Set focused on player stats regarding Effective Game Percentage, Points, Total Rebounds, Assists, and Blocks from players in the NBA seems to have some real good relationships, that could be explored further. For example, Total Rebounds and the number of Blocks seem to be correlated in the sense that the more blocks a player has, the more total rebounds a player has as well***"
   ]
  },
  {
   "cell_type": "code",
   "execution_count": 27,
   "metadata": {},
   "outputs": [
    {
     "data": {
      "image/png": "[encoded data removed]",
      "text/plain": [
       "<Figure size 432x288 with 1 Axes>"
      ]
     },
     "metadata": {
      "needs_background": "light"
     },
     "output_type": "display_data"
    }
   ],
   "source": [
    "pts_salary_df = main_df[main_df['SEASON'] == '2020-21'][['PTS', 'SALARY']]\n",
    "\n",
    "ax1 = pts_salary_df.plot.scatter(x= 'PTS', y = 'SALARY', c = 'DarkBlue')"
   ]
  },
  {
   "cell_type": "markdown",
   "metadata": {},
   "source": [
    "### scatter plot, of number of points of all players  versus the overall number of political tweets for 2020 "
   ]
  },
  {
   "cell_type": "code",
   "execution_count": 28,
   "metadata": {},
   "outputs": [
    {
     "data": {
      "image/png": "[encoded data removed]",
      "text/plain": [
       "<Figure size 432x288 with 1 Axes>"
      ]
     },
     "metadata": {
      "needs_background": "light"
     },
     "output_type": "display_data"
    }
   ],
   "source": [
    "points_df = main_df[main_df['SEASON'] == '2020-21'][['PTS', 'NAME']]\n",
    "points_df.columns = ['points', 'name']\n",
    "political_tweets_df = twitter_df[['name', 'num_political']]\n",
    "df = points_df.merge(political_tweets_df, how = 'inner')\n",
    "\n",
    "ax1 = df.plot.scatter(x= 'points', y = 'num_political', c = 'DarkBlue')"
   ]
  },
  {
   "cell_type": "markdown",
   "metadata": {},
   "source": [
    "this scatterplot shows whether or not theres a correlation between players that post political tweets and their average points scored per game"
   ]
  },
  {
   "cell_type": "markdown",
   "metadata": {},
   "source": [
    "### Scatter plot of twitter followers of all players on x-axis, and salary on y-axis (influence of player on their salary) (Lauren)"
   ]
  },
  {
   "cell_type": "code",
   "execution_count": 29,
   "metadata": {},
   "outputs": [
    {
     "data": {
      "image/png": "[encoded data removed]",
      "text/plain": [
       "<Figure size 432x288 with 1 Axes>"
      ]
     },
     "metadata": {
      "needs_background": "light"
     },
     "output_type": "display_data"
    }
   ],
   "source": [
    "twitter_follow_df = twitter_df[['followers_count', 'name']]\n",
    "twitter_follow_df.columns = ['FOLLOWERS', 'NAME']\n",
    "political_tweets_df = twitter_df[['name', 'num_political']]\n",
    "df = points_df.merge(political_tweets_df, how = 'inner')\n",
    "\n",
    "ax1 = df.plot.scatter(x= 'points', y = 'num_political', c = 'DarkBlue')"
   ]
  },
  {
   "cell_type": "markdown",
   "metadata": {},
   "source": [
    "this scatterplot shows if theres a correlation between the number of twitter followers a player has and their yearly salaries, we would use this to indicate the social influence a player has on their media platforms, if a player is more successful(higher salary) then they would be more influential (higher twitter following) meaning that if they made political posts they would theoretically get more support"
   ]
  },
  {
   "cell_type": "markdown",
   "metadata": {},
   "source": [
    "### barplot of 10 players that has the most political tweets on the x-axis (Lauren)"
   ]
  },
  {
   "cell_type": "code",
   "execution_count": 30,
   "metadata": {},
   "outputs": [
    {
     "ename": "AttributeError",
     "evalue": "module 'seaborn' has no attribute 'set_theme'",
     "output_type": "error",
     "traceback": [
      "\u001b[1;31m---------------------------------------------------------------------------\u001b[0m",
      "\u001b[1;31mAttributeError\u001b[0m                            Traceback (most recent call last)",
      "\u001b[1;32m<ipython-input-30-d287b4987b53>\u001b[0m in \u001b[0;36m<module>\u001b[1;34m\u001b[0m\n\u001b[0;32m      1\u001b[0m \u001b[0mtop_10\u001b[0m \u001b[1;33m=\u001b[0m \u001b[0mtwitter_df\u001b[0m\u001b[1;33m.\u001b[0m\u001b[0msort_values\u001b[0m\u001b[1;33m(\u001b[0m\u001b[0mby\u001b[0m\u001b[1;33m=\u001b[0m\u001b[1;34m'num_political'\u001b[0m\u001b[1;33m,\u001b[0m \u001b[0mascending\u001b[0m\u001b[1;33m=\u001b[0m\u001b[1;32mFalse\u001b[0m\u001b[1;33m)\u001b[0m\u001b[1;33m.\u001b[0m\u001b[0mnlargest\u001b[0m\u001b[1;33m(\u001b[0m\u001b[1;36m10\u001b[0m\u001b[1;33m,\u001b[0m \u001b[1;34m'num_political'\u001b[0m\u001b[1;33m)\u001b[0m\u001b[1;33m.\u001b[0m\u001b[0mreset_index\u001b[0m\u001b[1;33m(\u001b[0m\u001b[0mdrop\u001b[0m\u001b[1;33m=\u001b[0m\u001b[1;32mTrue\u001b[0m\u001b[1;33m)\u001b[0m\u001b[1;33m\u001b[0m\u001b[1;33m\u001b[0m\u001b[0m\n\u001b[1;32m----> 2\u001b[1;33m \u001b[0msns\u001b[0m\u001b[1;33m.\u001b[0m\u001b[0mset_theme\u001b[0m\u001b[1;33m(\u001b[0m\u001b[0mstyle\u001b[0m \u001b[1;33m=\u001b[0m \u001b[1;34m'whitegrid'\u001b[0m\u001b[1;33m)\u001b[0m\u001b[1;33m\u001b[0m\u001b[1;33m\u001b[0m\u001b[0m\n\u001b[0m\u001b[0;32m      3\u001b[0m \u001b[0msns\u001b[0m\u001b[1;33m.\u001b[0m\u001b[0mbarplot\u001b[0m\u001b[1;33m(\u001b[0m\u001b[0mx\u001b[0m\u001b[1;33m=\u001b[0m\u001b[1;34m'num_political'\u001b[0m\u001b[1;33m,\u001b[0m \u001b[0my\u001b[0m \u001b[1;33m=\u001b[0m \u001b[1;34m'name'\u001b[0m\u001b[1;33m,\u001b[0m \u001b[0mdata\u001b[0m \u001b[1;33m=\u001b[0m \u001b[0mtop_10\u001b[0m\u001b[1;33m)\u001b[0m\u001b[1;33m;\u001b[0m\u001b[1;33m\u001b[0m\u001b[1;33m\u001b[0m\u001b[0m\n",
      "\u001b[1;31mAttributeError\u001b[0m: module 'seaborn' has no attribute 'set_theme'"
     ]
    }
   ],
   "source": [
    "top_10 = twitter_df.sort_values(by='num_political', ascending=False).nlargest(10, 'num_political').reset_index(drop=True)\n",
    "sns.set_theme(style = 'whitegrid')\n",
    "sns.barplot(x='num_political', y = 'name', data = top_10);"
   ]
  },
  {
   "cell_type": "markdown",
   "metadata": {},
   "source": [
    "### Line barplot by player of political tweets over the period of 2017-2021 for the top 3 earning players as of 2020"
   ]
  },
  {
   "cell_type": "code",
   "execution_count": null,
   "metadata": {},
   "outputs": [],
   "source": [
    "df_2020.sort_values(by='SALARY', ascending=False).nlargest"
   ]
  },
  {
   "cell_type": "code",
   "execution_count": null,
   "metadata": {},
   "outputs": [],
   "source": [
    "top_three_earning_2020 = df_2020.sort_values(by='SALARY', ascending=False).nlargest(3, 'SALARY')\n",
    "top_three_earning_2020"
   ]
  },
  {
   "cell_type": "code",
   "execution_count": null,
   "metadata": {},
   "outputs": [],
   "source": [
    "names = top_three_earning_2020['NAME'].values.tolist()\n",
    "df = twitter_df[(twitter_df['name'] == names[0]) | (twitter_df['name'] == names[1]) | (twitter_df['name'] == names[2])].reset_index(drop=True)\n",
    "df = df.dropna(axis=0)\n",
    "df"
   ]
  },
  {
   "cell_type": "code",
   "execution_count": null,
   "metadata": {},
   "outputs": [],
   "source": [
    "tweet_dict = {'tweet_by_year': []}\n",
    "years = [2017, 2018, 2019, 2020, 2021]\n",
    "for idx, row in df.iterrows():\n",
    "    temp = np.zeros(len(years))\n",
    "    for j, date in enumerate(row['created_at']):\n",
    "        if row['political_bools'][j] == 0:\n",
    "            continue\n",
    "        if date.year in years:\n",
    "            temp[date.year - 2017] += 1\n",
    "    tweet_dict['tweet_by_year'].append(temp.astype(np.int).tolist())"
   ]
  },
  {
   "cell_type": "code",
   "execution_count": null,
   "metadata": {},
   "outputs": [],
   "source": [
    "print(tweet_dict.values())"
   ]
  },
  {
   "cell_type": "code",
   "execution_count": null,
   "metadata": {},
   "outputs": [],
   "source": [
    "tweet_by_year_df = pd.DataFrame(tweet_dict['tweet_by_year'])\n",
    "tweet_by_year_df.columns = years\n",
    "df = pd.concat([df, tweet_by_year_df], axis=1)\n",
    "df"
   ]
  },
  {
   "cell_type": "code",
   "execution_count": null,
   "metadata": {},
   "outputs": [],
   "source": [
    "sns.lineplot(data=df[[2017, 2018, 2019, 2020, 2021]].T);\n",
    "plt.xticks(np.arange(2017, 2022, 1));\n",
    "plt.legend(df['name'].values);"
   ]
  },
  {
   "cell_type": "markdown",
   "metadata": {},
   "source": [
    "There seems to be a peak in the number of political tweets in the year 2020. \n",
    "This makes sense as many politcal movements such as Black Lives Matter spur \n",
    "in the year of 2020 along with police brutality"
   ]
  },
  {
   "cell_type": "markdown",
   "metadata": {},
   "source": [
    "### bi-boxplot: average of favorite count of nonpolitcal/political tweets for all players over 2017-2021 (Michael)"
   ]
  },
  {
   "cell_type": "code",
   "execution_count": null,
   "metadata": {},
   "outputs": [],
   "source": [
    "tweet_dict = {'political': [], 'nonpolitical': []}\n",
    "years = [2017, 2018, 2019, 2020, 2021]\n",
    "for idx, row in df.iterrows():\n",
    "    political = np.zeros(len(years))\n",
    "    nonpolitical = np.zeros(len(years))\n",
    "    \n",
    "    for j, date in enumerate(row['created_at']):\n",
    "        if isinstance(date, datetime.datetime) and date.year in years:\n",
    "            if row['political_bools'][j] == 0:\n",
    "                nonpolitical[date.year - 2017] += row['favorite_count'][j]\n",
    "            else:\n",
    "                political[date.year - 2017] += row['favorite_count'][j]\n",
    "    tweet_dict['political'].append(political.astype(np.int).tolist())\n",
    "    tweet_dict['nonpolitical'].append(nonpolitical.astype(np.int).tolist())"
   ]
  },
  {
   "cell_type": "code",
   "execution_count": null,
   "metadata": {},
   "outputs": [],
   "source": [
    "df_political = pd.DataFrame(pd.DataFrame(tweet_dict['political']).sum(axis=0))\n",
    "df_nonpolitical = pd.DataFrame(pd.DataFrame(tweet_dict['nonpolitical']).sum(axis=0))\n",
    "df = pd.concat([df_political, df_nonpolitical], axis=1)\n",
    "df.columns = ['political', 'nonpolitical']\n",
    "df.index = years\n",
    "df"
   ]
  },
  {
   "cell_type": "code",
   "execution_count": null,
   "metadata": {},
   "outputs": [],
   "source": [
    "sns.lineplot(data=df);\n",
    "plt.xticks(np.arange(2017, 2022, 1));"
   ]
  },
  {
   "cell_type": "markdown",
   "metadata": {},
   "source": [
    "The plot shows that there is an increase in the number of favorite counts for both political and nonpolitical tweets \n",
    "in 2020. The plot can be further explored by looking at the average number of favorite count per year rather than\n",
    "its total"
   ]
  },
  {
   "cell_type": "markdown",
   "metadata": {},
   "source": [
    "### scatter plot of scoring of player vs number of political tweets for 2020 (Michael)"
   ]
  },
  {
   "cell_type": "code",
   "execution_count": null,
   "metadata": {},
   "outputs": [],
   "source": [
    "scoring_df = main_df[main_df['SEASON'] == '2020-21'][['PTS', 'NAME']]\n",
    "scoring_df.columns= ['points', 'name']\n",
    "political_tweet_df = twitter_df[['name', 'num_political']]\n",
    "df = scoring_df.merge(political_tweet_df, how='inner')\n",
    "df"
   ]
  },
  {
   "cell_type": "code",
   "execution_count": null,
   "metadata": {},
   "outputs": [],
   "source": [
    "pd.plotting.scatter_matrix(df);"
   ]
  },
  {
   "cell_type": "markdown",
   "metadata": {},
   "source": [
    "There does not seem to have a obvious correlation between points score and a player's political tweet, this might \n",
    "not necessarily be true as the two categorical variables have quite different scales and it's not normally distributed.\n",
    "We can carry out inference test to be more confident about our conclustion."
   ]
  },
  {
   "cell_type": "markdown",
   "metadata": {},
   "source": [
    "## "
   ]
  }
 ],
 "metadata": {
  "kernelspec": {
   "display_name": "Python 3",
   "language": "python",
   "name": "python3"
  },
  "language_info": {
   "codemirror_mode": {
    "name": "ipython",
    "version": 3
   },
   "file_extension": ".py",
   "mimetype": "text/x-python",
   "name": "python",
   "nbconvert_exporter": "python",
   "pygments_lexer": "ipython3",
   "version": "3.8.3"
  }
 },
 "nbformat": 4,
 "nbformat_minor": 2
}
